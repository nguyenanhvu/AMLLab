{
 "cells": [
  {
   "cell_type": "markdown",
   "metadata": {},
   "source": [
    "2018 Edition"
   ]
  },
  {
   "cell_type": "markdown",
   "metadata": {},
   "source": [
    "# Challenge: What is the future selling price of a home?\n",
    "\n",
    "A home is often the largest and most expensive purchase a person makes in his or her lifetime. Ensuring homeowners have a trusted way to monitor this asset is incredibly important.\n",
    "\n",
    "In this competition, students are required to develop a full-fledged approach to make predictions about the future sale prices of homes. A full-fledged approach constist, at least, in the following steps:\n",
    "\n",
    "* Descriptive statistics about the data\n",
    "* Data cleaning and pre-processing\n",
    "* Defining a modeling approach to the problem\n",
    "* Build such a statistical model\n",
    "* Validate the outcome of the model\n",
    "\n",
    "Now, should you ask a home buyer to describe their dream house, they probably wouldn't begin with describing features such as the height of the basement ceiling or the proximity to a railroad. As you will see, the dataset we use in this competition proves that many more features influence price negotiations than the number of bedrooms or a white-picket fence.\n",
    "\n",
    "With 79 explanatory variables describing (almost) every aspect of residential homes in a small city in the US, this competition challenges you to predict the final price of each home."
   ]
  },
  {
   "cell_type": "markdown",
   "metadata": {},
   "source": [
    "# The dataset\n",
    "\n",
    "## File descriptions\n",
    "\n",
    "* train.csv - the training dataset\n",
    "* test.csv - the test dataset\n",
    "* data_description.txt - full description of each column\n",
    "\n",
    "## Data fields\n",
    "Here's a brief version of what you'll find in the data description file.\n",
    "\n",
    "* SalePrice - the property's sale price in dollars. This is the target variable that you're trying to predict.\n",
    "* MSSubClass: The building class\n",
    "* MSZoning: The general zoning classification\n",
    "* LotFrontage: Linear feet of street connected to property\n",
    "* LotArea: Lot size in square feet\n",
    "* Street: Type of road access\n",
    "* Alley: Type of alley access\n",
    "* LotShape: General shape of property\n",
    "* LandContour: Flatness of the property\n",
    "* Utilities: Type of utilities available\n",
    "* LotConfig: Lot configuration\n",
    "* LandSlope: Slope of property\n",
    "* Neighborhood: Physical locations within Ames city limits\n",
    "* Condition1: Proximity to main road or railroad\n",
    "* Condition2: Proximity to main road or railroad (if a second is present)\n",
    "* BldgType: Type of dwelling\n",
    "* HouseStyle: Style of dwelling\n",
    "* OverallQual: Overall material and finish quality\n",
    "* OverallCond: Overall condition rating\n",
    "* YearBuilt: Original construction date\n",
    "* YearRemodAdd: Remodel date\n",
    "* RoofStyle: Type of roof\n",
    "* RoofMatl: Roof material\n",
    "* Exterior1st: Exterior covering on house\n",
    "* Exterior2nd: Exterior covering on house (if more than one material)\n",
    "* MasVnrType: Masonry veneer type\n",
    "* MasVnrArea: Masonry veneer area in square feet\n",
    "* ExterQual: Exterior material quality\n",
    "* ExterCond: Present condition of the material on the exterior\n",
    "* Foundation: Type of foundation\n",
    "* BsmtQual: Height of the basement\n",
    "* BsmtCond: General condition of the basement\n",
    "* BsmtExposure: Walkout or garden level basement walls\n",
    "* BsmtFinType1: Quality of basement finished area\n",
    "* BsmtFinSF1: Type 1 finished square feet\n",
    "* BsmtFinType2: Quality of second finished area (if present)\n",
    "* BsmtFinSF2: Type 2 finished square feet\n",
    "* BsmtUnfSF: Unfinished square feet of basement area\n",
    "* TotalBsmtSF: Total square feet of basement area\n",
    "* Heating: Type of heating\n",
    "* HeatingQC: Heating quality and condition\n",
    "* CentralAir: Central air conditioning\n",
    "* Electrical: Electrical system\n",
    "* 1stFlrSF: First Floor square feet\n",
    "* 2ndFlrSF: Second floor square feet\n",
    "* LowQualFinSF: Low quality finished square feet (all floors)\n",
    "* GrLivArea: Above grade (ground) living area square feet\n",
    "* BsmtFullBath: Basement full bathrooms\n",
    "* BsmtHalfBath: Basement half bathrooms\n",
    "* FullBath: Full bathrooms above grade\n",
    "* HalfBath: Half baths above grade\n",
    "* Bedroom: Number of bedrooms above basement level\n",
    "* Kitchen: Number of kitchens\n",
    "* KitchenQual: Kitchen quality\n",
    "* TotRmsAbvGrd: Total rooms above grade (does not include bathrooms)\n",
    "* Functional: Home functionality rating\n",
    "* Fireplaces: Number of fireplaces\n",
    "* FireplaceQu: Fireplace quality\n",
    "* GarageType: Garage location\n",
    "* GarageYrBlt: Year garage was built\n",
    "* GarageFinish: Interior finish of the garage\n",
    "* GarageCars: Size of garage in car capacity\n",
    "* GarageArea: Size of garage in square feet\n",
    "* GarageQual: Garage quality\n",
    "* GarageCond: Garage condition\n",
    "* PavedDrive: Paved driveway\n",
    "* WoodDeckSF: Wood deck area in square feet\n",
    "* OpenPorchSF: Open porch area in square feet\n",
    "* EnclosedPorch: Enclosed porch area in square feet\n",
    "* 3SsnPorch: Three season porch area in square feet\n",
    "* ScreenPorch: Screen porch area in square feet\n",
    "* PoolArea: Pool area in square feet\n",
    "* PoolQC: Pool quality\n",
    "* Fence: Fence quality\n",
    "* MiscFeature: Miscellaneous feature not covered in other categories\n",
    "* MiscVal: Value (in dollars) of miscellaneous feature\n",
    "* MoSold: Month Sold\n",
    "* YrSold: Year Sold\n",
    "* SaleType: Type of sale\n",
    "* SaleCondition: Condition of sale\n"
   ]
  },
  {
   "cell_type": "markdown",
   "metadata": {},
   "source": [
    "# Goal of the challenge\n",
    "\n",
    "It is your job to predict the sales price for each house. For each Id in the test set, you must predict the value of the SalePrice variable.\n",
    "\n",
    "## Metric\n",
    "Notebooks are evaluated on Root-Mean-Squared-Error (RMSE) between the logarithm of the predicted value and the logarithm of the observed sales price. (Taking logs means that errors in predicting expensive houses and cheap houses will affect the result equally.)\n",
    "\n",
    "## Submission File Format\n",
    "The file should contain a header and have the following format:\n",
    "\n",
    "```\n",
    "Id,SalePrice\n",
    "1461,169000.1\n",
    "1462,187724.1233\n",
    "1463,175221\n",
    "etc.\n",
    "```\n",
    "\n",
    "You will find an example submission file within the data directory in the repository."
   ]
  },
  {
   "cell_type": "markdown",
   "metadata": {},
   "source": [
    "# Grading the notebook\n",
    "\n",
    "This challenge is going to be graded as a regular notebook for the AML labs. As a consequence, students should submit:\n",
    "\n",
    "* the html version of the notebook, using the Data Science Labs submission website, as usual [**Assignement: Challenge Notebook**]\n",
    "* the submission file (in csv format), that we will use to rank students according to the metric defined above, again through the Data Science Labs submission website [**Assignement: Challenge Predictions**]\n",
    "\n",
    "In summary, you will have to submit 2 files!"
   ]
  },
  {
   "cell_type": "markdown",
   "metadata": {},
   "source": [
    "# A. Introduction  \n",
    "\n",
    "In this notebook, we will try to build a model predicting the price of house in US. The Housing price is continuous number, so we will consider this is a regression problem. To solve this problem, we will come through this notebook with two steps:  \n",
    "<ol>\n",
    "<li>First, we will analyse our dataset for having better understanding. There are a couple of tasks will be done in this steps:</li>\n",
    "- Features transforming  \n",
    "- Filling missing data  \n",
    "- Features selection  \n",
    "<li>Second, we will try to build the price predicting model with some regression model. Most of models in this part will be implement by scikit-learn library.</li>\n",
    "</ol>"
   ]
  },
  {
   "cell_type": "code",
   "execution_count": 1,
   "metadata": {
    "collapsed": true
   },
   "outputs": [],
   "source": [
    "import numpy as np\n",
    "import pandas as pd\n",
    "import matplotlib.pyplot as plt\n",
    "import statsmodels.api as sm\n",
    "from sklearn.decomposition import PCA\n",
    "import time\n",
    "from sklearn.model_selection import KFold\n",
    "from sklearn import linear_model"
   ]
  },
  {
   "cell_type": "markdown",
   "metadata": {},
   "source": [
    "# B. Data Exploring"
   ]
  },
  {
   "cell_type": "code",
   "execution_count": 2,
   "metadata": {
    "collapsed": false,
    "scrolled": true
   },
   "outputs": [
    {
     "name": "stdout",
     "output_type": "stream",
     "text": [
      "Size of train set: (1200, 81)\n"
     ]
    },
    {
     "data": {
      "text/html": [
       "<div>\n",
       "<table border=\"1\" class=\"dataframe\">\n",
       "  <thead>\n",
       "    <tr style=\"text-align: right;\">\n",
       "      <th></th>\n",
       "      <th>Id</th>\n",
       "      <th>MSSubClass</th>\n",
       "      <th>MSZoning</th>\n",
       "      <th>LotFrontage</th>\n",
       "      <th>LotArea</th>\n",
       "      <th>Street</th>\n",
       "      <th>Alley</th>\n",
       "      <th>LotShape</th>\n",
       "      <th>LandContour</th>\n",
       "      <th>Utilities</th>\n",
       "      <th>...</th>\n",
       "      <th>PoolArea</th>\n",
       "      <th>PoolQC</th>\n",
       "      <th>Fence</th>\n",
       "      <th>MiscFeature</th>\n",
       "      <th>MiscVal</th>\n",
       "      <th>MoSold</th>\n",
       "      <th>YrSold</th>\n",
       "      <th>SaleType</th>\n",
       "      <th>SaleCondition</th>\n",
       "      <th>SalePrice</th>\n",
       "    </tr>\n",
       "  </thead>\n",
       "  <tbody>\n",
       "    <tr>\n",
       "      <th>0</th>\n",
       "      <td>1</td>\n",
       "      <td>60</td>\n",
       "      <td>RL</td>\n",
       "      <td>65.0</td>\n",
       "      <td>8450</td>\n",
       "      <td>Pave</td>\n",
       "      <td>NaN</td>\n",
       "      <td>Reg</td>\n",
       "      <td>Lvl</td>\n",
       "      <td>AllPub</td>\n",
       "      <td>...</td>\n",
       "      <td>0</td>\n",
       "      <td>NaN</td>\n",
       "      <td>NaN</td>\n",
       "      <td>NaN</td>\n",
       "      <td>0</td>\n",
       "      <td>2</td>\n",
       "      <td>2008</td>\n",
       "      <td>WD</td>\n",
       "      <td>Normal</td>\n",
       "      <td>208500</td>\n",
       "    </tr>\n",
       "    <tr>\n",
       "      <th>1</th>\n",
       "      <td>2</td>\n",
       "      <td>20</td>\n",
       "      <td>RL</td>\n",
       "      <td>80.0</td>\n",
       "      <td>9600</td>\n",
       "      <td>Pave</td>\n",
       "      <td>NaN</td>\n",
       "      <td>Reg</td>\n",
       "      <td>Lvl</td>\n",
       "      <td>AllPub</td>\n",
       "      <td>...</td>\n",
       "      <td>0</td>\n",
       "      <td>NaN</td>\n",
       "      <td>NaN</td>\n",
       "      <td>NaN</td>\n",
       "      <td>0</td>\n",
       "      <td>5</td>\n",
       "      <td>2007</td>\n",
       "      <td>WD</td>\n",
       "      <td>Normal</td>\n",
       "      <td>181500</td>\n",
       "    </tr>\n",
       "    <tr>\n",
       "      <th>2</th>\n",
       "      <td>3</td>\n",
       "      <td>60</td>\n",
       "      <td>RL</td>\n",
       "      <td>68.0</td>\n",
       "      <td>11250</td>\n",
       "      <td>Pave</td>\n",
       "      <td>NaN</td>\n",
       "      <td>IR1</td>\n",
       "      <td>Lvl</td>\n",
       "      <td>AllPub</td>\n",
       "      <td>...</td>\n",
       "      <td>0</td>\n",
       "      <td>NaN</td>\n",
       "      <td>NaN</td>\n",
       "      <td>NaN</td>\n",
       "      <td>0</td>\n",
       "      <td>9</td>\n",
       "      <td>2008</td>\n",
       "      <td>WD</td>\n",
       "      <td>Normal</td>\n",
       "      <td>223500</td>\n",
       "    </tr>\n",
       "    <tr>\n",
       "      <th>3</th>\n",
       "      <td>4</td>\n",
       "      <td>70</td>\n",
       "      <td>RL</td>\n",
       "      <td>60.0</td>\n",
       "      <td>9550</td>\n",
       "      <td>Pave</td>\n",
       "      <td>NaN</td>\n",
       "      <td>IR1</td>\n",
       "      <td>Lvl</td>\n",
       "      <td>AllPub</td>\n",
       "      <td>...</td>\n",
       "      <td>0</td>\n",
       "      <td>NaN</td>\n",
       "      <td>NaN</td>\n",
       "      <td>NaN</td>\n",
       "      <td>0</td>\n",
       "      <td>2</td>\n",
       "      <td>2006</td>\n",
       "      <td>WD</td>\n",
       "      <td>Abnorml</td>\n",
       "      <td>140000</td>\n",
       "    </tr>\n",
       "    <tr>\n",
       "      <th>4</th>\n",
       "      <td>5</td>\n",
       "      <td>60</td>\n",
       "      <td>RL</td>\n",
       "      <td>84.0</td>\n",
       "      <td>14260</td>\n",
       "      <td>Pave</td>\n",
       "      <td>NaN</td>\n",
       "      <td>IR1</td>\n",
       "      <td>Lvl</td>\n",
       "      <td>AllPub</td>\n",
       "      <td>...</td>\n",
       "      <td>0</td>\n",
       "      <td>NaN</td>\n",
       "      <td>NaN</td>\n",
       "      <td>NaN</td>\n",
       "      <td>0</td>\n",
       "      <td>12</td>\n",
       "      <td>2008</td>\n",
       "      <td>WD</td>\n",
       "      <td>Normal</td>\n",
       "      <td>250000</td>\n",
       "    </tr>\n",
       "  </tbody>\n",
       "</table>\n",
       "<p>5 rows × 81 columns</p>\n",
       "</div>"
      ],
      "text/plain": [
       "   Id  MSSubClass MSZoning  LotFrontage  LotArea Street Alley LotShape  \\\n",
       "0   1          60       RL         65.0     8450   Pave   NaN      Reg   \n",
       "1   2          20       RL         80.0     9600   Pave   NaN      Reg   \n",
       "2   3          60       RL         68.0    11250   Pave   NaN      IR1   \n",
       "3   4          70       RL         60.0     9550   Pave   NaN      IR1   \n",
       "4   5          60       RL         84.0    14260   Pave   NaN      IR1   \n",
       "\n",
       "  LandContour Utilities    ...     PoolArea PoolQC Fence MiscFeature MiscVal  \\\n",
       "0         Lvl    AllPub    ...            0    NaN   NaN         NaN       0   \n",
       "1         Lvl    AllPub    ...            0    NaN   NaN         NaN       0   \n",
       "2         Lvl    AllPub    ...            0    NaN   NaN         NaN       0   \n",
       "3         Lvl    AllPub    ...            0    NaN   NaN         NaN       0   \n",
       "4         Lvl    AllPub    ...            0    NaN   NaN         NaN       0   \n",
       "\n",
       "  MoSold YrSold  SaleType  SaleCondition  SalePrice  \n",
       "0      2   2008        WD         Normal     208500  \n",
       "1      5   2007        WD         Normal     181500  \n",
       "2      9   2008        WD         Normal     223500  \n",
       "3      2   2006        WD        Abnorml     140000  \n",
       "4     12   2008        WD         Normal     250000  \n",
       "\n",
       "[5 rows x 81 columns]"
      ]
     },
     "execution_count": 2,
     "metadata": {},
     "output_type": "execute_result"
    }
   ],
   "source": [
    "HousingPriceDF = pd.read_csv('Data/train.csv')\n",
    "print(\"Size of train set:\",HousingPriceDF.shape)\n",
    "HousingPriceDF.head()"
   ]
  },
  {
   "cell_type": "code",
   "execution_count": 3,
   "metadata": {
    "collapsed": false,
    "scrolled": true
   },
   "outputs": [
    {
     "name": "stdout",
     "output_type": "stream",
     "text": [
      "Size of test set: (260, 80)\n"
     ]
    },
    {
     "data": {
      "text/html": [
       "<div>\n",
       "<table border=\"1\" class=\"dataframe\">\n",
       "  <thead>\n",
       "    <tr style=\"text-align: right;\">\n",
       "      <th></th>\n",
       "      <th>Id</th>\n",
       "      <th>MSSubClass</th>\n",
       "      <th>MSZoning</th>\n",
       "      <th>LotFrontage</th>\n",
       "      <th>LotArea</th>\n",
       "      <th>Street</th>\n",
       "      <th>Alley</th>\n",
       "      <th>LotShape</th>\n",
       "      <th>LandContour</th>\n",
       "      <th>Utilities</th>\n",
       "      <th>...</th>\n",
       "      <th>ScreenPorch</th>\n",
       "      <th>PoolArea</th>\n",
       "      <th>PoolQC</th>\n",
       "      <th>Fence</th>\n",
       "      <th>MiscFeature</th>\n",
       "      <th>MiscVal</th>\n",
       "      <th>MoSold</th>\n",
       "      <th>YrSold</th>\n",
       "      <th>SaleType</th>\n",
       "      <th>SaleCondition</th>\n",
       "    </tr>\n",
       "  </thead>\n",
       "  <tbody>\n",
       "    <tr>\n",
       "      <th>0</th>\n",
       "      <td>1201</td>\n",
       "      <td>20</td>\n",
       "      <td>RL</td>\n",
       "      <td>71.0</td>\n",
       "      <td>9353</td>\n",
       "      <td>Pave</td>\n",
       "      <td>NaN</td>\n",
       "      <td>Reg</td>\n",
       "      <td>Lvl</td>\n",
       "      <td>AllPub</td>\n",
       "      <td>...</td>\n",
       "      <td>0</td>\n",
       "      <td>0</td>\n",
       "      <td>NaN</td>\n",
       "      <td>NaN</td>\n",
       "      <td>Shed</td>\n",
       "      <td>0</td>\n",
       "      <td>7</td>\n",
       "      <td>2006</td>\n",
       "      <td>Oth</td>\n",
       "      <td>Abnorml</td>\n",
       "    </tr>\n",
       "    <tr>\n",
       "      <th>1</th>\n",
       "      <td>1202</td>\n",
       "      <td>60</td>\n",
       "      <td>RL</td>\n",
       "      <td>80.0</td>\n",
       "      <td>10400</td>\n",
       "      <td>Pave</td>\n",
       "      <td>NaN</td>\n",
       "      <td>Reg</td>\n",
       "      <td>Lvl</td>\n",
       "      <td>AllPub</td>\n",
       "      <td>...</td>\n",
       "      <td>0</td>\n",
       "      <td>0</td>\n",
       "      <td>NaN</td>\n",
       "      <td>NaN</td>\n",
       "      <td>NaN</td>\n",
       "      <td>0</td>\n",
       "      <td>3</td>\n",
       "      <td>2009</td>\n",
       "      <td>WD</td>\n",
       "      <td>Normal</td>\n",
       "    </tr>\n",
       "    <tr>\n",
       "      <th>2</th>\n",
       "      <td>1203</td>\n",
       "      <td>50</td>\n",
       "      <td>RM</td>\n",
       "      <td>50.0</td>\n",
       "      <td>6000</td>\n",
       "      <td>Pave</td>\n",
       "      <td>NaN</td>\n",
       "      <td>Reg</td>\n",
       "      <td>Lvl</td>\n",
       "      <td>AllPub</td>\n",
       "      <td>...</td>\n",
       "      <td>0</td>\n",
       "      <td>0</td>\n",
       "      <td>NaN</td>\n",
       "      <td>NaN</td>\n",
       "      <td>NaN</td>\n",
       "      <td>0</td>\n",
       "      <td>5</td>\n",
       "      <td>2009</td>\n",
       "      <td>WD</td>\n",
       "      <td>Normal</td>\n",
       "    </tr>\n",
       "    <tr>\n",
       "      <th>3</th>\n",
       "      <td>1204</td>\n",
       "      <td>20</td>\n",
       "      <td>RL</td>\n",
       "      <td>75.0</td>\n",
       "      <td>9750</td>\n",
       "      <td>Pave</td>\n",
       "      <td>NaN</td>\n",
       "      <td>Reg</td>\n",
       "      <td>Lvl</td>\n",
       "      <td>AllPub</td>\n",
       "      <td>...</td>\n",
       "      <td>0</td>\n",
       "      <td>0</td>\n",
       "      <td>NaN</td>\n",
       "      <td>NaN</td>\n",
       "      <td>NaN</td>\n",
       "      <td>0</td>\n",
       "      <td>10</td>\n",
       "      <td>2009</td>\n",
       "      <td>WD</td>\n",
       "      <td>Normal</td>\n",
       "    </tr>\n",
       "    <tr>\n",
       "      <th>4</th>\n",
       "      <td>1205</td>\n",
       "      <td>20</td>\n",
       "      <td>RL</td>\n",
       "      <td>78.0</td>\n",
       "      <td>10140</td>\n",
       "      <td>Pave</td>\n",
       "      <td>NaN</td>\n",
       "      <td>Reg</td>\n",
       "      <td>Lvl</td>\n",
       "      <td>AllPub</td>\n",
       "      <td>...</td>\n",
       "      <td>0</td>\n",
       "      <td>0</td>\n",
       "      <td>NaN</td>\n",
       "      <td>MnPrv</td>\n",
       "      <td>NaN</td>\n",
       "      <td>0</td>\n",
       "      <td>7</td>\n",
       "      <td>2006</td>\n",
       "      <td>WD</td>\n",
       "      <td>Normal</td>\n",
       "    </tr>\n",
       "  </tbody>\n",
       "</table>\n",
       "<p>5 rows × 80 columns</p>\n",
       "</div>"
      ],
      "text/plain": [
       "     Id  MSSubClass MSZoning  LotFrontage  LotArea Street Alley LotShape  \\\n",
       "0  1201          20       RL         71.0     9353   Pave   NaN      Reg   \n",
       "1  1202          60       RL         80.0    10400   Pave   NaN      Reg   \n",
       "2  1203          50       RM         50.0     6000   Pave   NaN      Reg   \n",
       "3  1204          20       RL         75.0     9750   Pave   NaN      Reg   \n",
       "4  1205          20       RL         78.0    10140   Pave   NaN      Reg   \n",
       "\n",
       "  LandContour Utilities      ...       ScreenPorch PoolArea PoolQC  Fence  \\\n",
       "0         Lvl    AllPub      ...                 0        0    NaN    NaN   \n",
       "1         Lvl    AllPub      ...                 0        0    NaN    NaN   \n",
       "2         Lvl    AllPub      ...                 0        0    NaN    NaN   \n",
       "3         Lvl    AllPub      ...                 0        0    NaN    NaN   \n",
       "4         Lvl    AllPub      ...                 0        0    NaN  MnPrv   \n",
       "\n",
       "  MiscFeature MiscVal MoSold  YrSold  SaleType  SaleCondition  \n",
       "0        Shed       0      7    2006       Oth        Abnorml  \n",
       "1         NaN       0      3    2009        WD         Normal  \n",
       "2         NaN       0      5    2009        WD         Normal  \n",
       "3         NaN       0     10    2009        WD         Normal  \n",
       "4         NaN       0      7    2006        WD         Normal  \n",
       "\n",
       "[5 rows x 80 columns]"
      ]
     },
     "execution_count": 3,
     "metadata": {},
     "output_type": "execute_result"
    }
   ],
   "source": [
    "TestDF = pd.read_csv('Data/test.csv')\n",
    "print(\"Size of test set:\",TestDF.shape)\n",
    "TestDF.head()"
   ]
  },
  {
   "cell_type": "markdown",
   "metadata": {},
   "source": [
    "* Our train set has 1200 rows with 81 features. Test set has 260 rows with 80 features.\n",
    "* Obviously, 'Id' column does not contain any information supporting for our predicting model.  "
   ]
  },
  {
   "cell_type": "code",
   "execution_count": 4,
   "metadata": {
    "collapsed": false
   },
   "outputs": [],
   "source": [
    "# Deleting \"Id\" columns from dataset\n",
    "del HousingPriceDF['Id']"
   ]
  },
  {
   "cell_type": "code",
   "execution_count": 5,
   "metadata": {
    "collapsed": false
   },
   "outputs": [
    {
     "data": {
      "text/plain": [
       "array([2008, 2007, 2006, 2009, 2010])"
      ]
     },
     "execution_count": 5,
     "metadata": {},
     "output_type": "execute_result"
    }
   ],
   "source": [
    "HousingPriceDF['YrSold'].unique()"
   ]
  },
  {
   "cell_type": "markdown",
   "metadata": {},
   "source": [
    "Our dataset is Sale price of House for five years, from 2006 to 2010."
   ]
  },
  {
   "cell_type": "markdown",
   "metadata": {},
   "source": [
    "* Sale Price column is the target of our model. Firstly, we will take a look about the property of Sale Price."
   ]
  },
  {
   "cell_type": "markdown",
   "metadata": {},
   "source": [
    "## I. Sale Price"
   ]
  },
  {
   "cell_type": "code",
   "execution_count": 6,
   "metadata": {
    "collapsed": false,
    "scrolled": false
   },
   "outputs": [
    {
     "data": {
      "image/png": "[encoded data removed]",
      "text/plain": [
       "<matplotlib.figure.Figure at 0x119f6d0f0>"
      ]
     },
     "metadata": {},
     "output_type": "display_data"
    },
    {
     "name": "stdout",
     "output_type": "stream",
     "text": [
      "count      1200.000000\n",
      "mean     181414.628333\n",
      "std       81070.908544\n",
      "min       34900.000000\n",
      "25%      129900.000000\n",
      "50%      163700.000000\n",
      "75%      214000.000000\n",
      "max      755000.000000\n",
      "Name: SalePrice, dtype: float64\n"
     ]
    }
   ],
   "source": [
    "plt.title(\"Distribution of housing price\")\n",
    "plt.hist(HousingPriceDF['SalePrice']/10**5,bins=30)\n",
    "plt.xlabel(\"Price of houses (Hundred Thousand USD)\")\n",
    "plt.ylabel(\"Number of house\")\n",
    "plt.grid(True)\n",
    "plt.show()\n",
    "print(HousingPriceDF['SalePrice'].describe())"
   ]
  },
  {
   "cell_type": "markdown",
   "metadata": {},
   "source": [
    "* Our prices change from 34.900 to 755.000 with mean 181.414 and standard deviation is 81.070. \n",
    "* Most of the houses were sold at price from 100.000USD to 300.000USD\n",
    "* One importance observation is that our sale price is left-skewed distribution. In this notebook, we will use linear model to predict the price, and it will be better if the target value is simmilar to normal distribution. Thus, it might be better to train with logarithm of sale price"
   ]
  },
  {
   "cell_type": "code",
   "execution_count": 7,
   "metadata": {
    "collapsed": false,
    "scrolled": false
   },
   "outputs": [
    {
     "data": {
      "image/png": "[encoded data removed]",
      "text/plain": [
       "<matplotlib.figure.Figure at 0x119ff9588>"
      ]
     },
     "metadata": {},
     "output_type": "display_data"
    },
    {
     "name": "stdout",
     "output_type": "stream",
     "text": [
      "count    1200.000000\n",
      "mean       12.024861\n",
      "std         0.403556\n",
      "min        10.460242\n",
      "25%        11.774520\n",
      "50%        12.005790\n",
      "75%        12.273731\n",
      "max        13.534473\n",
      "Name: SalePrice, dtype: float64\n"
     ]
    }
   ],
   "source": [
    "plt.title(\"Distribution of Logarithm of housing price\")\n",
    "plt.hist(np.log(HousingPriceDF['SalePrice']),bins=30)\n",
    "plt.xlabel(\"Price of houses (Logarithm)\")\n",
    "plt.ylabel(\"Number of house\")\n",
    "plt.grid(True)\n",
    "plt.show()\n",
    "#Some statistical numbers of Logarithm of SalePrice\n",
    "print(HousingPriceDF['SalePrice'].apply(lambda x: np.log(x)).describe())"
   ]
  },
  {
   "cell_type": "markdown",
   "metadata": {},
   "source": [
    "* The logarithm of prices change from 10.46 to 13.53 with mean 12.02 and standard deviation is 0.40. This means that if we use the simplist approach is using mean of logarithm of prices for all the case, the RMSE is 0.40.  \n",
    "\n",
    "There is a couple of benefits when we use logarithm of Sale price to train:  \n",
    "* First, as we see from above histogram, logarithm makes our sale price's distribution similar to normal distribution.\n",
    "* Second, as traininng model by logarithm value, our predicted price will never be negative as the reality."
   ]
  },
  {
   "cell_type": "code",
   "execution_count": 8,
   "metadata": {
    "collapsed": false
   },
   "outputs": [
    {
     "data": {
      "image/png": "[encoded data removed]",
      "text/plain": [
       "<matplotlib.figure.Figure at 0x119f6d828>"
      ]
     },
     "metadata": {},
     "output_type": "display_data"
    }
   ],
   "source": [
    "plt.title(\"Housing price\")\n",
    "plt.plot(HousingPriceDF['SalePrice'].values)\n",
    "plt.ylabel(\"Price of house\")\n",
    "plt.xticks([])\n",
    "plt.grid(True)\n",
    "plt.show()"
   ]
  },
  {
   "cell_type": "markdown",
   "metadata": {},
   "source": [
    "With this plot, the housing price seems to be randomly, and it is hard to get some insight about the housing price. For human understanding, it is easier when we see somet thing that in order. So we will try to sort our dataset by Sale price and see how the sale price is"
   ]
  },
  {
   "cell_type": "code",
   "execution_count": 9,
   "metadata": {
    "collapsed": false
   },
   "outputs": [
    {
     "data": {
      "image/png": "[encoded data removed]",
      "text/plain": [
       "<matplotlib.figure.Figure at 0x11d81e358>"
      ]
     },
     "metadata": {},
     "output_type": "display_data"
    }
   ],
   "source": [
    "#Sort our dataset by SalePrice\n",
    "HousingPriceDF = HousingPriceDF.sort_values(by='SalePrice',ascending=1)\n",
    "plt.title(\"Housing price\")\n",
    "plt.plot(HousingPriceDF['SalePrice'].values)\n",
    "plt.ylabel(\"Price of house\")\n",
    "plt.xticks([])\n",
    "plt.grid(True)\n",
    "plt.show()"
   ]
  },
  {
   "cell_type": "markdown",
   "metadata": {},
   "source": [
    "With this chart, it is more clear to see that most of houses were sold at price from 100.000USD to 300.000USD"
   ]
  },
  {
   "cell_type": "code",
   "execution_count": 10,
   "metadata": {
    "collapsed": false
   },
   "outputs": [
    {
     "name": "stdout",
     "output_type": "stream",
     "text": [
      "Percentage of Houses have price from 100.000 to 300.000: 82.9166666667\n"
     ]
    }
   ],
   "source": [
    "SalePrice = HousingPriceDF.SalePrice\n",
    "print(\"Percentage of Houses have price from 100.000 to 300.000:\", \\\n",
    "      SalePrice[(SalePrice>10**5)&(SalePrice<3*10**5)].count()*100/len(SalePrice))"
   ]
  },
  {
   "cell_type": "markdown",
   "metadata": {},
   "source": [
    "Now, we will analysis other features which will be used to predict our housing price."
   ]
  },
  {
   "cell_type": "markdown",
   "metadata": {},
   "source": [
    "## II. Features Exploring"
   ]
  },
  {
   "cell_type": "markdown",
   "metadata": {},
   "source": [
    "There are different types of data in our dataset, we will find how may datatypes and how many features for each types"
   ]
  },
  {
   "cell_type": "code",
   "execution_count": 11,
   "metadata": {
    "collapsed": false,
    "scrolled": true
   },
   "outputs": [
    {
     "name": "stdout",
     "output_type": "stream",
     "text": [
      "All datatype in dataset: [dtype('int64') dtype('float64') dtype('O')]\n"
     ]
    }
   ],
   "source": [
    "#List all datatype in our dataset.\n",
    "print(\"All datatype in dataset:\", np.unique(HousingPriceDF.dtypes))"
   ]
  },
  {
   "cell_type": "markdown",
   "metadata": {},
   "source": [
    "Our dataset contains Integer, Float, and Object. Integer and Float are numerical features and Object is non-numerical features, or category features. \n",
    "* With numerical features, it can be used directly in our model to predict \n",
    "How many features are there for Numerical features and category features?"
   ]
  },
  {
   "cell_type": "code",
   "execution_count": 12,
   "metadata": {
    "collapsed": false
   },
   "outputs": [
    {
     "name": "stdout",
     "output_type": "stream",
     "text": [
      "Number of columns those are not numeric: 43\n",
      "Number of columns those are numeric (not count Price Columns): 36\n"
     ]
    }
   ],
   "source": [
    "def ExtractFeaturesType(dataframe):\n",
    "    \"\"\"\n",
    "    Extract list of categoric features name and numerical features name.\n",
    "    \n",
    "    Args: \n",
    "        dataframe (DataFrame): input dataframe.\n",
    "    Returns: \n",
    "        CatCols (list): List of categoric features.\n",
    "        NumCols (list): List of Numerical features.\n",
    "    \"\"\"\n",
    "    # Numerical datatype in our dataset is np.float and np.int\n",
    "    numericaltype = [np.float, np.int] \n",
    "    #List of columns name that the values in those columns are not float or integer.\n",
    "    CatCols = [col for col in dataframe \\\n",
    "               if dataframe[col].dtypes not in numericaltype]\n",
    "    #List of columns name that the values in those columns are float or integer.\n",
    "    NumCols = [col for col in dataframe.drop('SalePrice', axis=1) \\\n",
    "               if dataframe[col].dtypes in numericaltype]\n",
    "    return CatCols,NumCols\n",
    "CategoryFeatures,NumericalFeatures = ExtractFeaturesType(HousingPriceDF)\n",
    "print(\"Number of columns those are not numeric:\", len(CategoryFeatures))\n",
    "print(\"Number of columns those are numeric (not count Price Columns):\", \\\n",
    "      HousingPriceDF.shape[1]-len(CategoryFeatures)-1)"
   ]
  },
  {
   "cell_type": "markdown",
   "metadata": {},
   "source": [
    " ***Missing value:*** We will analyse the missing information in train set and test set"
   ]
  },
  {
   "cell_type": "code",
   "execution_count": 13,
   "metadata": {
    "collapsed": true
   },
   "outputs": [],
   "source": [
    "def CalMissingInfor(dataframe):\n",
    "    \"\"\"\n",
    "    Extract informaiton of missing value of each features\n",
    "    \n",
    "    Args: \n",
    "        dataframe (DataFrame): input dataframe.\n",
    "    Returns: \n",
    "        MissDF (DataFrame): Result of missing value information, include the datatype for features.\n",
    "        There are four columns in this return dataframe:\n",
    "        - FeatureName: Name of feature\n",
    "        - MissingNum: Number of missing datapoint in feature mentioned in FeaturesName\n",
    "        - MissingPercentage: Percentage of missing datapoint in feature mentioned in FeaturesName\n",
    "        - Type: datatype of feature mentioned in FeaturesName\n",
    "        \n",
    "    \"\"\"\n",
    "    MissRatioList = []\n",
    "    datasize=dataframe.shape[0]\n",
    "    for col in dataframe:\n",
    "        #Iterate through all the columns in our dataframe\n",
    "        MissDict = dict()  #Dictionary that contains the information of each feature.\n",
    "        MissDict['FeatureName'] = col #Contains the name of features.\n",
    "        MissDict['MissingNum'] = np.sum(dataframe[col].isnull()*1) #count Null values in each features\n",
    "        MissDict['MissingPercentage'] = (MissDict['MissingNum']/datasize)*100 # Change to percentage\n",
    "        MissDict['Type'] = dataframe[col].dtypes #Contains datatype of features\n",
    "        MissRatioList.append(MissDict)\n",
    "    #Change from list of dictionaries to dataframe.\n",
    "    MissDF = pd.DataFrame.from_records(MissRatioList)\n",
    "    #Keep only features that have mising values. Sort the dataframe by MissingRatio\n",
    "    MissDF = MissDF[MissDF.MissingPercentage>0].sort_values(by='MissingPercentage', ascending=0)\n",
    "    return MissDF"
   ]
  },
  {
   "cell_type": "code",
   "execution_count": 14,
   "metadata": {
    "collapsed": false
   },
   "outputs": [
    {
     "data": {
      "text/html": [
       "<div>\n",
       "<table border=\"1\" class=\"dataframe\">\n",
       "  <thead>\n",
       "    <tr style=\"text-align: right;\">\n",
       "      <th></th>\n",
       "      <th>MSSubClass</th>\n",
       "      <th>MSZoning</th>\n",
       "      <th>LotFrontage</th>\n",
       "      <th>LotArea</th>\n",
       "      <th>Street</th>\n",
       "      <th>Alley</th>\n",
       "      <th>LotShape</th>\n",
       "      <th>LandContour</th>\n",
       "      <th>Utilities</th>\n",
       "      <th>LotConfig</th>\n",
       "      <th>...</th>\n",
       "      <th>ScreenPorch</th>\n",
       "      <th>PoolArea</th>\n",
       "      <th>PoolQC</th>\n",
       "      <th>Fence</th>\n",
       "      <th>MiscVal</th>\n",
       "      <th>MoSold</th>\n",
       "      <th>YrSold</th>\n",
       "      <th>SaleType</th>\n",
       "      <th>SaleCondition</th>\n",
       "      <th>SalePrice</th>\n",
       "    </tr>\n",
       "    <tr>\n",
       "      <th>MiscFeature</th>\n",
       "      <th></th>\n",
       "      <th></th>\n",
       "      <th></th>\n",
       "      <th></th>\n",
       "      <th></th>\n",
       "      <th></th>\n",
       "      <th></th>\n",
       "      <th></th>\n",
       "      <th></th>\n",
       "      <th></th>\n",
       "      <th></th>\n",
       "      <th></th>\n",
       "      <th></th>\n",
       "      <th></th>\n",
       "      <th></th>\n",
       "      <th></th>\n",
       "      <th></th>\n",
       "      <th></th>\n",
       "      <th></th>\n",
       "      <th></th>\n",
       "      <th></th>\n",
       "    </tr>\n",
       "  </thead>\n",
       "  <tbody>\n",
       "    <tr>\n",
       "      <th>Gar2</th>\n",
       "      <td>1</td>\n",
       "      <td>1</td>\n",
       "      <td>0</td>\n",
       "      <td>1</td>\n",
       "      <td>1</td>\n",
       "      <td>0</td>\n",
       "      <td>1</td>\n",
       "      <td>1</td>\n",
       "      <td>1</td>\n",
       "      <td>1</td>\n",
       "      <td>...</td>\n",
       "      <td>1</td>\n",
       "      <td>1</td>\n",
       "      <td>0</td>\n",
       "      <td>0</td>\n",
       "      <td>1</td>\n",
       "      <td>1</td>\n",
       "      <td>1</td>\n",
       "      <td>1</td>\n",
       "      <td>1</td>\n",
       "      <td>1</td>\n",
       "    </tr>\n",
       "    <tr>\n",
       "      <th>Othr</th>\n",
       "      <td>2</td>\n",
       "      <td>2</td>\n",
       "      <td>2</td>\n",
       "      <td>2</td>\n",
       "      <td>2</td>\n",
       "      <td>0</td>\n",
       "      <td>2</td>\n",
       "      <td>2</td>\n",
       "      <td>2</td>\n",
       "      <td>2</td>\n",
       "      <td>...</td>\n",
       "      <td>2</td>\n",
       "      <td>2</td>\n",
       "      <td>0</td>\n",
       "      <td>0</td>\n",
       "      <td>2</td>\n",
       "      <td>2</td>\n",
       "      <td>2</td>\n",
       "      <td>2</td>\n",
       "      <td>2</td>\n",
       "      <td>2</td>\n",
       "    </tr>\n",
       "    <tr>\n",
       "      <th>Shed</th>\n",
       "      <td>44</td>\n",
       "      <td>44</td>\n",
       "      <td>31</td>\n",
       "      <td>44</td>\n",
       "      <td>44</td>\n",
       "      <td>3</td>\n",
       "      <td>44</td>\n",
       "      <td>44</td>\n",
       "      <td>44</td>\n",
       "      <td>44</td>\n",
       "      <td>...</td>\n",
       "      <td>44</td>\n",
       "      <td>44</td>\n",
       "      <td>0</td>\n",
       "      <td>19</td>\n",
       "      <td>44</td>\n",
       "      <td>44</td>\n",
       "      <td>44</td>\n",
       "      <td>44</td>\n",
       "      <td>44</td>\n",
       "      <td>44</td>\n",
       "    </tr>\n",
       "  </tbody>\n",
       "</table>\n",
       "<p>3 rows × 79 columns</p>\n",
       "</div>"
      ],
      "text/plain": [
       "             MSSubClass  MSZoning  LotFrontage  LotArea  Street  Alley  \\\n",
       "MiscFeature                                                              \n",
       "Gar2                  1         1            0        1       1      0   \n",
       "Othr                  2         2            2        2       2      0   \n",
       "Shed                 44        44           31       44      44      3   \n",
       "\n",
       "             LotShape  LandContour  Utilities  LotConfig    ...      \\\n",
       "MiscFeature                                                 ...       \n",
       "Gar2                1            1          1          1    ...       \n",
       "Othr                2            2          2          2    ...       \n",
       "Shed               44           44         44         44    ...       \n",
       "\n",
       "             ScreenPorch  PoolArea  PoolQC  Fence  MiscVal  MoSold  YrSold  \\\n",
       "MiscFeature                                                                  \n",
       "Gar2                   1         1       0      0        1       1       1   \n",
       "Othr                   2         2       0      0        2       2       2   \n",
       "Shed                  44        44       0     19       44      44      44   \n",
       "\n",
       "             SaleType  SaleCondition  SalePrice  \n",
       "MiscFeature                                      \n",
       "Gar2                1              1          1  \n",
       "Othr                2              2          2  \n",
       "Shed               44             44         44  \n",
       "\n",
       "[3 rows x 79 columns]"
      ]
     },
     "execution_count": 14,
     "metadata": {},
     "output_type": "execute_result"
    }
   ],
   "source": [
    "HousingPriceDF.groupby('MiscFeature').count()"
   ]
  },
  {
   "cell_type": "code",
   "execution_count": 15,
   "metadata": {
    "collapsed": false,
    "scrolled": false
   },
   "outputs": [
    {
     "name": "stdout",
     "output_type": "stream",
     "text": [
      "Number of features have missing values in train set 18\n"
     ]
    },
    {
     "data": {
      "text/html": [
       "<div>\n",
       "<table border=\"1\" class=\"dataframe\">\n",
       "  <thead>\n",
       "    <tr style=\"text-align: right;\">\n",
       "      <th></th>\n",
       "      <th>FeatureName</th>\n",
       "      <th>MissingNum</th>\n",
       "      <th>MissingPercentage</th>\n",
       "      <th>Type</th>\n",
       "    </tr>\n",
       "  </thead>\n",
       "  <tbody>\n",
       "    <tr>\n",
       "      <th>71</th>\n",
       "      <td>PoolQC</td>\n",
       "      <td>1196</td>\n",
       "      <td>99.666667</td>\n",
       "      <td>object</td>\n",
       "    </tr>\n",
       "    <tr>\n",
       "      <th>73</th>\n",
       "      <td>MiscFeature</td>\n",
       "      <td>1153</td>\n",
       "      <td>96.083333</td>\n",
       "      <td>object</td>\n",
       "    </tr>\n",
       "    <tr>\n",
       "      <th>5</th>\n",
       "      <td>Alley</td>\n",
       "      <td>1125</td>\n",
       "      <td>93.750000</td>\n",
       "      <td>object</td>\n",
       "    </tr>\n",
       "    <tr>\n",
       "      <th>72</th>\n",
       "      <td>Fence</td>\n",
       "      <td>973</td>\n",
       "      <td>81.083333</td>\n",
       "      <td>object</td>\n",
       "    </tr>\n",
       "    <tr>\n",
       "      <th>56</th>\n",
       "      <td>FireplaceQu</td>\n",
       "      <td>564</td>\n",
       "      <td>47.000000</td>\n",
       "      <td>object</td>\n",
       "    </tr>\n",
       "    <tr>\n",
       "      <th>2</th>\n",
       "      <td>LotFrontage</td>\n",
       "      <td>210</td>\n",
       "      <td>17.500000</td>\n",
       "      <td>float64</td>\n",
       "    </tr>\n",
       "    <tr>\n",
       "      <th>57</th>\n",
       "      <td>GarageType</td>\n",
       "      <td>67</td>\n",
       "      <td>5.583333</td>\n",
       "      <td>object</td>\n",
       "    </tr>\n",
       "    <tr>\n",
       "      <th>58</th>\n",
       "      <td>GarageYrBlt</td>\n",
       "      <td>67</td>\n",
       "      <td>5.583333</td>\n",
       "      <td>float64</td>\n",
       "    </tr>\n",
       "    <tr>\n",
       "      <th>59</th>\n",
       "      <td>GarageFinish</td>\n",
       "      <td>67</td>\n",
       "      <td>5.583333</td>\n",
       "      <td>object</td>\n",
       "    </tr>\n",
       "    <tr>\n",
       "      <th>62</th>\n",
       "      <td>GarageQual</td>\n",
       "      <td>67</td>\n",
       "      <td>5.583333</td>\n",
       "      <td>object</td>\n",
       "    </tr>\n",
       "    <tr>\n",
       "      <th>63</th>\n",
       "      <td>GarageCond</td>\n",
       "      <td>67</td>\n",
       "      <td>5.583333</td>\n",
       "      <td>object</td>\n",
       "    </tr>\n",
       "    <tr>\n",
       "      <th>31</th>\n",
       "      <td>BsmtExposure</td>\n",
       "      <td>33</td>\n",
       "      <td>2.750000</td>\n",
       "      <td>object</td>\n",
       "    </tr>\n",
       "    <tr>\n",
       "      <th>34</th>\n",
       "      <td>BsmtFinType2</td>\n",
       "      <td>33</td>\n",
       "      <td>2.750000</td>\n",
       "      <td>object</td>\n",
       "    </tr>\n",
       "    <tr>\n",
       "      <th>30</th>\n",
       "      <td>BsmtCond</td>\n",
       "      <td>32</td>\n",
       "      <td>2.666667</td>\n",
       "      <td>object</td>\n",
       "    </tr>\n",
       "    <tr>\n",
       "      <th>32</th>\n",
       "      <td>BsmtFinType1</td>\n",
       "      <td>32</td>\n",
       "      <td>2.666667</td>\n",
       "      <td>object</td>\n",
       "    </tr>\n",
       "    <tr>\n",
       "      <th>29</th>\n",
       "      <td>BsmtQual</td>\n",
       "      <td>32</td>\n",
       "      <td>2.666667</td>\n",
       "      <td>object</td>\n",
       "    </tr>\n",
       "    <tr>\n",
       "      <th>25</th>\n",
       "      <td>MasVnrArea</td>\n",
       "      <td>6</td>\n",
       "      <td>0.500000</td>\n",
       "      <td>float64</td>\n",
       "    </tr>\n",
       "    <tr>\n",
       "      <th>24</th>\n",
       "      <td>MasVnrType</td>\n",
       "      <td>6</td>\n",
       "      <td>0.500000</td>\n",
       "      <td>object</td>\n",
       "    </tr>\n",
       "  </tbody>\n",
       "</table>\n",
       "</div>"
      ],
      "text/plain": [
       "     FeatureName  MissingNum  MissingPercentage     Type\n",
       "71        PoolQC        1196          99.666667   object\n",
       "73   MiscFeature        1153          96.083333   object\n",
       "5          Alley        1125          93.750000   object\n",
       "72         Fence         973          81.083333   object\n",
       "56   FireplaceQu         564          47.000000   object\n",
       "2    LotFrontage         210          17.500000  float64\n",
       "57    GarageType          67           5.583333   object\n",
       "58   GarageYrBlt          67           5.583333  float64\n",
       "59  GarageFinish          67           5.583333   object\n",
       "62    GarageQual          67           5.583333   object\n",
       "63    GarageCond          67           5.583333   object\n",
       "31  BsmtExposure          33           2.750000   object\n",
       "34  BsmtFinType2          33           2.750000   object\n",
       "30      BsmtCond          32           2.666667   object\n",
       "32  BsmtFinType1          32           2.666667   object\n",
       "29      BsmtQual          32           2.666667   object\n",
       "25    MasVnrArea           6           0.500000  float64\n",
       "24    MasVnrType           6           0.500000   object"
      ]
     },
     "execution_count": 15,
     "metadata": {},
     "output_type": "execute_result"
    }
   ],
   "source": [
    "MissTrainDf = CalMissingInfor(HousingPriceDF)\n",
    "print(\"Number of features have missing values in train set\",MissTrainDf.shape[0])\n",
    "MissTrainDf"
   ]
  },
  {
   "cell_type": "code",
   "execution_count": 16,
   "metadata": {
    "collapsed": false
   },
   "outputs": [
    {
     "name": "stdout",
     "output_type": "stream",
     "text": [
      "Number of features have missing values in test set 19\n"
     ]
    },
    {
     "data": {
      "text/html": [
       "<div>\n",
       "<table border=\"1\" class=\"dataframe\">\n",
       "  <thead>\n",
       "    <tr style=\"text-align: right;\">\n",
       "      <th></th>\n",
       "      <th>FeatureName</th>\n",
       "      <th>MissingNum</th>\n",
       "      <th>MissingPercentage</th>\n",
       "      <th>Type</th>\n",
       "    </tr>\n",
       "  </thead>\n",
       "  <tbody>\n",
       "    <tr>\n",
       "      <th>72</th>\n",
       "      <td>PoolQC</td>\n",
       "      <td>257</td>\n",
       "      <td>98.846154</td>\n",
       "      <td>object</td>\n",
       "    </tr>\n",
       "    <tr>\n",
       "      <th>74</th>\n",
       "      <td>MiscFeature</td>\n",
       "      <td>253</td>\n",
       "      <td>97.307692</td>\n",
       "      <td>object</td>\n",
       "    </tr>\n",
       "    <tr>\n",
       "      <th>6</th>\n",
       "      <td>Alley</td>\n",
       "      <td>244</td>\n",
       "      <td>93.846154</td>\n",
       "      <td>object</td>\n",
       "    </tr>\n",
       "    <tr>\n",
       "      <th>73</th>\n",
       "      <td>Fence</td>\n",
       "      <td>206</td>\n",
       "      <td>79.230769</td>\n",
       "      <td>object</td>\n",
       "    </tr>\n",
       "    <tr>\n",
       "      <th>57</th>\n",
       "      <td>FireplaceQu</td>\n",
       "      <td>126</td>\n",
       "      <td>48.461538</td>\n",
       "      <td>object</td>\n",
       "    </tr>\n",
       "    <tr>\n",
       "      <th>3</th>\n",
       "      <td>LotFrontage</td>\n",
       "      <td>49</td>\n",
       "      <td>18.846154</td>\n",
       "      <td>float64</td>\n",
       "    </tr>\n",
       "    <tr>\n",
       "      <th>58</th>\n",
       "      <td>GarageType</td>\n",
       "      <td>14</td>\n",
       "      <td>5.384615</td>\n",
       "      <td>object</td>\n",
       "    </tr>\n",
       "    <tr>\n",
       "      <th>59</th>\n",
       "      <td>GarageYrBlt</td>\n",
       "      <td>14</td>\n",
       "      <td>5.384615</td>\n",
       "      <td>float64</td>\n",
       "    </tr>\n",
       "    <tr>\n",
       "      <th>60</th>\n",
       "      <td>GarageFinish</td>\n",
       "      <td>14</td>\n",
       "      <td>5.384615</td>\n",
       "      <td>object</td>\n",
       "    </tr>\n",
       "    <tr>\n",
       "      <th>63</th>\n",
       "      <td>GarageQual</td>\n",
       "      <td>14</td>\n",
       "      <td>5.384615</td>\n",
       "      <td>object</td>\n",
       "    </tr>\n",
       "    <tr>\n",
       "      <th>64</th>\n",
       "      <td>GarageCond</td>\n",
       "      <td>14</td>\n",
       "      <td>5.384615</td>\n",
       "      <td>object</td>\n",
       "    </tr>\n",
       "    <tr>\n",
       "      <th>32</th>\n",
       "      <td>BsmtExposure</td>\n",
       "      <td>5</td>\n",
       "      <td>1.923077</td>\n",
       "      <td>object</td>\n",
       "    </tr>\n",
       "    <tr>\n",
       "      <th>33</th>\n",
       "      <td>BsmtFinType1</td>\n",
       "      <td>5</td>\n",
       "      <td>1.923077</td>\n",
       "      <td>object</td>\n",
       "    </tr>\n",
       "    <tr>\n",
       "      <th>35</th>\n",
       "      <td>BsmtFinType2</td>\n",
       "      <td>5</td>\n",
       "      <td>1.923077</td>\n",
       "      <td>object</td>\n",
       "    </tr>\n",
       "    <tr>\n",
       "      <th>31</th>\n",
       "      <td>BsmtCond</td>\n",
       "      <td>5</td>\n",
       "      <td>1.923077</td>\n",
       "      <td>object</td>\n",
       "    </tr>\n",
       "    <tr>\n",
       "      <th>30</th>\n",
       "      <td>BsmtQual</td>\n",
       "      <td>5</td>\n",
       "      <td>1.923077</td>\n",
       "      <td>object</td>\n",
       "    </tr>\n",
       "    <tr>\n",
       "      <th>26</th>\n",
       "      <td>MasVnrArea</td>\n",
       "      <td>2</td>\n",
       "      <td>0.769231</td>\n",
       "      <td>float64</td>\n",
       "    </tr>\n",
       "    <tr>\n",
       "      <th>25</th>\n",
       "      <td>MasVnrType</td>\n",
       "      <td>2</td>\n",
       "      <td>0.769231</td>\n",
       "      <td>object</td>\n",
       "    </tr>\n",
       "    <tr>\n",
       "      <th>42</th>\n",
       "      <td>Electrical</td>\n",
       "      <td>1</td>\n",
       "      <td>0.384615</td>\n",
       "      <td>object</td>\n",
       "    </tr>\n",
       "  </tbody>\n",
       "</table>\n",
       "</div>"
      ],
      "text/plain": [
       "     FeatureName  MissingNum  MissingPercentage     Type\n",
       "72        PoolQC         257          98.846154   object\n",
       "74   MiscFeature         253          97.307692   object\n",
       "6          Alley         244          93.846154   object\n",
       "73         Fence         206          79.230769   object\n",
       "57   FireplaceQu         126          48.461538   object\n",
       "3    LotFrontage          49          18.846154  float64\n",
       "58    GarageType          14           5.384615   object\n",
       "59   GarageYrBlt          14           5.384615  float64\n",
       "60  GarageFinish          14           5.384615   object\n",
       "63    GarageQual          14           5.384615   object\n",
       "64    GarageCond          14           5.384615   object\n",
       "32  BsmtExposure           5           1.923077   object\n",
       "33  BsmtFinType1           5           1.923077   object\n",
       "35  BsmtFinType2           5           1.923077   object\n",
       "31      BsmtCond           5           1.923077   object\n",
       "30      BsmtQual           5           1.923077   object\n",
       "26    MasVnrArea           2           0.769231  float64\n",
       "25    MasVnrType           2           0.769231   object\n",
       "42    Electrical           1           0.384615   object"
      ]
     },
     "execution_count": 16,
     "metadata": {},
     "output_type": "execute_result"
    }
   ],
   "source": [
    "MissTestDf = CalMissingInfor(TestDF)\n",
    "print(\"Number of features have missing values in test set\",MissTestDf.shape[0])\n",
    "MissTestDf"
   ]
  },
  {
   "cell_type": "markdown",
   "metadata": {},
   "source": [
    "* **PoolQC:** The missing value in PoolQC indicate that the house does not have Pool. There is only four datapoints in PoolQC features but there are four posible value of PoolQC:  Ex, Gd, TA, Fa. So the dataset is not large enough to model the relation between PoolQC and SalePrice. We should not consider this feature when training."
   ]
  },
  {
   "cell_type": "code",
   "execution_count": 17,
   "metadata": {
    "collapsed": true
   },
   "outputs": [],
   "source": [
    "#Drop PoolQC feature in train set\n",
    "HousingPriceDF = HousingPriceDF.drop('PoolQC',axis=1)\n",
    "#Drop PoolQC feature in test set\n",
    "TestDF = TestDF.drop('PoolQC',axis=1)"
   ]
  },
  {
   "cell_type": "markdown",
   "metadata": {},
   "source": [
    "* **MiscFeature:** This columns contains the additional information for house. There are five possible additional informaiton: Elev, Gar2, Othr, Shed and TenC, but not all of them are available in our dataset. Let's see the availability of those additional features:"
   ]
  },
  {
   "cell_type": "code",
   "execution_count": 18,
   "metadata": {
    "collapsed": false
   },
   "outputs": [
    {
     "data": {
      "text/html": [
       "<div>\n",
       "<table border=\"1\" class=\"dataframe\">\n",
       "  <thead>\n",
       "    <tr style=\"text-align: right;\">\n",
       "      <th></th>\n",
       "      <th>SalePrice</th>\n",
       "    </tr>\n",
       "    <tr>\n",
       "      <th>MiscFeature</th>\n",
       "      <th></th>\n",
       "    </tr>\n",
       "  </thead>\n",
       "  <tbody>\n",
       "    <tr>\n",
       "      <th>Gar2</th>\n",
       "      <td>1</td>\n",
       "    </tr>\n",
       "    <tr>\n",
       "      <th>Othr</th>\n",
       "      <td>2</td>\n",
       "    </tr>\n",
       "    <tr>\n",
       "      <th>Shed</th>\n",
       "      <td>44</td>\n",
       "    </tr>\n",
       "  </tbody>\n",
       "</table>\n",
       "</div>"
      ],
      "text/plain": [
       "             SalePrice\n",
       "MiscFeature           \n",
       "Gar2                 1\n",
       "Othr                 2\n",
       "Shed                44"
      ]
     },
     "execution_count": 18,
     "metadata": {},
     "output_type": "execute_result"
    }
   ],
   "source": [
    "HousingPriceDF[['MiscFeature','SalePrice']].groupby('MiscFeature').count()"
   ]
  },
  {
   "cell_type": "markdown",
   "metadata": {},
   "source": [
    "* We can see that there is only three available additional features in our train set. Furthermore, the data for Gar2 and Othr are too small to model the relation with SalePrice. So for this MiscFeature, we will generate a new feature name **MiscFeature_Shed**, and the value of this column will be get from 'MiscVal' columns where the value of \"MiscFeature\" is \"Shed\". The other rows, where \"MiscFeature\" is not \"Shed\", \"MiscFeature_Shed\" is ZERO."
   ]
  },
  {
   "cell_type": "code",
   "execution_count": 19,
   "metadata": {
    "collapsed": false
   },
   "outputs": [],
   "source": [
    "HousingPriceDF['MiscFeature_Shed'] = HousingPriceDF.MiscVal*(HousingPriceDF.MiscFeature == \"Shed\")\n",
    "HousingPriceDF = HousingPriceDF.drop(['MiscVal','MiscFeature'],axis=1)\n",
    "TestDF['MiscFeature_Shed'] = TestDF.MiscVal*(TestDF.MiscFeature == \"Shed\")\n",
    "TestDF = TestDF.drop(['MiscVal','MiscFeature'],axis=1)"
   ]
  },
  {
   "cell_type": "markdown",
   "metadata": {},
   "source": [
    "* **Alley:** NA in Alley column means there is No alley access this house. We will keep NA for this feature and discuss about it later when we analyze categoric features. Even the NA value is have really high percentage in this features, we believe that \"Not-NA\" values is still enough to contribute to our model, because there is only tw\"Not-NA\" possible value in this features: Paved and Gravel.\n",
    "* **Fence:**  NA in Fence column means there is No Fence of this house. Again, we will keep NA for this feature and discuss about it later when we analyze categoric features.\n",
    "* **FireplaceQu:**  NA in FireplaceQu column means there is No Fireplace in this house. Again, we will keep NA for this feature and discuss about it later when we analyze categoric features.\n",
    "* **LotFrontage:** To fill missing data of LotFrontage, we have some approaches. Simple way is filling by mean value of LotFrontage, one another way is calculating LotFrontage from other features. First, let take a look on some statistic number of LotFrontage:"
   ]
  },
  {
   "cell_type": "code",
   "execution_count": 20,
   "metadata": {
    "collapsed": false
   },
   "outputs": [
    {
     "data": {
      "text/plain": [
       "count    990.000000\n",
       "mean      70.086869\n",
       "std       23.702029\n",
       "min       21.000000\n",
       "25%       59.000000\n",
       "50%       70.000000\n",
       "75%       80.000000\n",
       "max      313.000000\n",
       "Name: LotFrontage, dtype: float64"
      ]
     },
     "execution_count": 20,
     "metadata": {},
     "output_type": "execute_result"
    }
   ],
   "source": [
    "HousingPriceDF['LotFrontage'].describe()"
   ]
  },
  {
   "cell_type": "markdown",
   "metadata": {},
   "source": [
    "If filling by mean value, the MSE is std and it is 23.702029. Now, we try to calculate LotFrontage from other features. We have a list of features related to lot is LotArea, LotShape, LotConfig, it might be a relation between LotArea with LotFrontage."
   ]
  },
  {
   "cell_type": "code",
   "execution_count": 21,
   "metadata": {
    "collapsed": false
   },
   "outputs": [
    {
     "data": {
      "text/html": [
       "<div>\n",
       "<table border=\"1\" class=\"dataframe\">\n",
       "  <thead>\n",
       "    <tr style=\"text-align: right;\">\n",
       "      <th></th>\n",
       "      <th>LotFrontage</th>\n",
       "      <th>LotArea</th>\n",
       "    </tr>\n",
       "  </thead>\n",
       "  <tbody>\n",
       "    <tr>\n",
       "      <th>LotFrontage</th>\n",
       "      <td>1.000000</td>\n",
       "      <td>0.390132</td>\n",
       "    </tr>\n",
       "    <tr>\n",
       "      <th>LotArea</th>\n",
       "      <td>0.390132</td>\n",
       "      <td>1.000000</td>\n",
       "    </tr>\n",
       "  </tbody>\n",
       "</table>\n",
       "</div>"
      ],
      "text/plain": [
       "             LotFrontage   LotArea\n",
       "LotFrontage     1.000000  0.390132\n",
       "LotArea         0.390132  1.000000"
      ]
     },
     "execution_count": 21,
     "metadata": {},
     "output_type": "execute_result"
    }
   ],
   "source": [
    "LotMeasure = HousingPriceDF[['LotFrontage','LotArea']][HousingPriceDF.LotFrontage.notnull()]\n",
    "LotMeasure.corr()"
   ]
  },
  {
   "cell_type": "markdown",
   "metadata": {},
   "source": [
    "The correlation is not high. LotArea maybe in different shapes, but let we assume that it is square, then LotFrontage maybe have higher correlation with square root of LotArea."
   ]
  },
  {
   "cell_type": "code",
   "execution_count": 22,
   "metadata": {
    "collapsed": false
   },
   "outputs": [
    {
     "data": {
      "text/html": [
       "<div>\n",
       "<table border=\"1\" class=\"dataframe\">\n",
       "  <thead>\n",
       "    <tr style=\"text-align: right;\">\n",
       "      <th></th>\n",
       "      <th>LotFrontage</th>\n",
       "      <th>LotArea</th>\n",
       "      <th>LotArea_SQRT</th>\n",
       "    </tr>\n",
       "  </thead>\n",
       "  <tbody>\n",
       "    <tr>\n",
       "      <th>LotFrontage</th>\n",
       "      <td>1.000000</td>\n",
       "      <td>0.390132</td>\n",
       "      <td>0.585284</td>\n",
       "    </tr>\n",
       "    <tr>\n",
       "      <th>LotArea</th>\n",
       "      <td>0.390132</td>\n",
       "      <td>1.000000</td>\n",
       "      <td>0.890034</td>\n",
       "    </tr>\n",
       "    <tr>\n",
       "      <th>LotArea_SQRT</th>\n",
       "      <td>0.585284</td>\n",
       "      <td>0.890034</td>\n",
       "      <td>1.000000</td>\n",
       "    </tr>\n",
       "  </tbody>\n",
       "</table>\n",
       "</div>"
      ],
      "text/plain": [
       "              LotFrontage   LotArea  LotArea_SQRT\n",
       "LotFrontage      1.000000  0.390132      0.585284\n",
       "LotArea          0.390132  1.000000      0.890034\n",
       "LotArea_SQRT     0.585284  0.890034      1.000000"
      ]
     },
     "execution_count": 22,
     "metadata": {},
     "output_type": "execute_result"
    }
   ],
   "source": [
    "LotMeasure['LotArea_SQRT'] = np.sqrt(LotMeasure['LotArea'])\n",
    "LotMeasure.corr()"
   ]
  },
  {
   "cell_type": "markdown",
   "metadata": {},
   "source": [
    "The correlation increases to 0.58, not too high, but still better than LotArea. Now we try to fit linear model between LotArea_SQRT and LotFrontage, and check MSE to know is it better than choosing the simple approach mentioned above. We will use KFold to do the cross validation."
   ]
  },
  {
   "cell_type": "code",
   "execution_count": 23,
   "metadata": {
    "collapsed": false
   },
   "outputs": [],
   "source": [
    "LotArea_SQRT = LotMeasure['LotArea_SQRT'].values\n",
    "LotFrontage = LotMeasure['LotFrontage'].values\n",
    "#Reshape those array to correct dimension\n",
    "LotArea_SQRT = LotArea_SQRT.reshape(len(LotArea_SQRT),1)\n",
    "LotFrontage = LotFrontage.reshape(len(LotArea_SQRT),1)"
   ]
  },
  {
   "cell_type": "code",
   "execution_count": 24,
   "metadata": {
    "collapsed": false
   },
   "outputs": [
    {
     "name": "stdout",
     "output_type": "stream",
     "text": [
      "Mean error: 19.3290149768\n"
     ]
    }
   ],
   "source": [
    "def CalRMSE(p,t):\n",
    "    \"\"\"\n",
    "    Calculate mean square error\n",
    "    Args:\n",
    "        p: predicted value\n",
    "        t: target value\n",
    "    Returns:\n",
    "        MSE\n",
    "    \"\"\"\n",
    "    return np.sqrt(np.mean((p-t)**2))\n",
    "# define KFold with 10 fold.\n",
    "kf = KFold(n_splits=10,shuffle=True)\n",
    "kf.get_n_splits(LotArea_SQRT)\n",
    "\n",
    "error = []\n",
    "#fit_intercept=True because our target is not already centered\n",
    "regr = linear_model.LinearRegression(fit_intercept=True)\n",
    "for train_index, test_index in kf.split(LotArea_SQRT):\n",
    "    #LotArea_SQRT is features\n",
    "    X_train, X_test = LotArea_SQRT[train_index], LotArea_SQRT[test_index]\n",
    "    #LotFrontage is target\n",
    "    y_train, y_test = LotFrontage[train_index], LotFrontage[test_index]\n",
    "    regr.fit(X_train,y_train)\n",
    "    error.append(CalRMSE(regr.predict(X_test),y_test))\n",
    "print(\"Mean error:\",np.mean(error))"
   ]
  },
  {
   "cell_type": "markdown",
   "metadata": {},
   "source": [
    "We can see that it nearly the same with using mean value. To be simple, we will fill the missing value by mean value of LotFrontage"
   ]
  },
  {
   "cell_type": "code",
   "execution_count": 25,
   "metadata": {
    "collapsed": false
   },
   "outputs": [],
   "source": [
    "meanLotFrontage = np.mean(HousingPriceDF['LotFrontage'])\n",
    "HousingPriceDF['LotFrontage'] = HousingPriceDF['LotFrontage'].fillna(meanLotFrontage)\n",
    "TestDF['LotFrontage'] = TestDF['LotFrontage'].fillna(meanLotFrontage)"
   ]
  },
  {
   "cell_type": "markdown",
   "metadata": {},
   "source": [
    "* **GarageType, GarageYrBlt, GarageFinish, GarageQual, GarageCond** The missing value of those features are because the not availability of Garage in the house. For **GarageYrBlt**, we will replace missing value by ZERO. The others features, the missing value will be kept as NA and will be processes in categoric features transforming.\n",
    "* **BsmtExposure, BsmtFinType1, BsmtFinType2, BsmtCond, BsmtQual:**  The missing value of those features are because the not availability of Basement in the house. The missing value will be kept as NA and will be processes in categoric features transforming.\n",
    "* **MasVnrType, MasVnrArea**  Since Masonry veneer (MasVnr) columns contain value \"None\" which indicates \"None\" for MasVnrType, missing information (\"NA\") might contain other meaning. However, since it is only 6 cases of \"NA\" in columns related to MasVnr, it will not affect a lot if we also treat them as not available in house. Thus, MasVnrArea will be set at ZERO and MasVnrType will still be kept as NA and will be processes in categoric features transforming. "
   ]
  },
  {
   "cell_type": "code",
   "execution_count": 26,
   "metadata": {
    "collapsed": true
   },
   "outputs": [],
   "source": [
    "#Filling missing information for train set\n",
    "HousingPriceDF['GarageYrBlt'] = HousingPriceDF['GarageYrBlt'].fillna(0)\n",
    "HousingPriceDF['MasVnrArea'] = HousingPriceDF['MasVnrArea'].fillna(0)\n",
    "#Filling missing information for test set\n",
    "TestDF['GarageYrBlt'] = TestDF['GarageYrBlt'].fillna(0)\n",
    "TestDF['MasVnrArea'] = TestDF['MasVnrArea'].fillna(0)"
   ]
  },
  {
   "cell_type": "markdown",
   "metadata": {},
   "source": [
    "* **Electrical:** we will fill missing data by the majority value of Electrical - SBrkr"
   ]
  },
  {
   "cell_type": "code",
   "execution_count": 27,
   "metadata": {
    "collapsed": false
   },
   "outputs": [
    {
     "data": {
      "text/html": [
       "<div>\n",
       "<table border=\"1\" class=\"dataframe\">\n",
       "  <thead>\n",
       "    <tr style=\"text-align: right;\">\n",
       "      <th></th>\n",
       "      <th>SalePrice</th>\n",
       "    </tr>\n",
       "    <tr>\n",
       "      <th>Electrical</th>\n",
       "      <th></th>\n",
       "    </tr>\n",
       "  </thead>\n",
       "  <tbody>\n",
       "    <tr>\n",
       "      <th>FuseA</th>\n",
       "      <td>80</td>\n",
       "    </tr>\n",
       "    <tr>\n",
       "      <th>FuseF</th>\n",
       "      <td>21</td>\n",
       "    </tr>\n",
       "    <tr>\n",
       "      <th>FuseP</th>\n",
       "      <td>3</td>\n",
       "    </tr>\n",
       "    <tr>\n",
       "      <th>Mix</th>\n",
       "      <td>1</td>\n",
       "    </tr>\n",
       "    <tr>\n",
       "      <th>SBrkr</th>\n",
       "      <td>1095</td>\n",
       "    </tr>\n",
       "  </tbody>\n",
       "</table>\n",
       "</div>"
      ],
      "text/plain": [
       "            SalePrice\n",
       "Electrical           \n",
       "FuseA              80\n",
       "FuseF              21\n",
       "FuseP               3\n",
       "Mix                 1\n",
       "SBrkr            1095"
      ]
     },
     "execution_count": 27,
     "metadata": {},
     "output_type": "execute_result"
    }
   ],
   "source": [
    "HousingPriceDF[['Electrical','SalePrice']].groupby('Electrical').count()"
   ]
  },
  {
   "cell_type": "code",
   "execution_count": 28,
   "metadata": {
    "collapsed": true
   },
   "outputs": [],
   "source": [
    "TestDF['Electrical'] = TestDF['Electrical'].fillna('SBrkr')"
   ]
  },
  {
   "cell_type": "markdown",
   "metadata": {},
   "source": [
    "Now, we will go through each type of features: Numerical features and Categoric features.\n",
    "- With numerical Features, we will analyze the correlation of features with target - SalePrice and the correlation between each features to choose the important features.\n",
    "- With Categoric Features, we will apply One Hot Encoding to change from categoric features to numeric features."
   ]
  },
  {
   "cell_type": "code",
   "execution_count": 29,
   "metadata": {
    "collapsed": false
   },
   "outputs": [
    {
     "name": "stdout",
     "output_type": "stream",
     "text": [
      "Number of columns those are not numeric: 41\n",
      "Number of columns those are numeric (not count Price Columns): 36\n"
     ]
    }
   ],
   "source": [
    "CategoryFeatures,NumericalFeatures = ExtractFeaturesType(HousingPriceDF)\n",
    "print(\"Number of columns those are not numeric:\", len(CategoryFeatures))\n",
    "print(\"Number of columns those are numeric (not count Price Columns):\", \\\n",
    "      HousingPriceDF.shape[1]-len(CategoryFeatures)-1)"
   ]
  },
  {
   "cell_type": "markdown",
   "metadata": {},
   "source": [
    "### 1. Numerical Features:"
   ]
  },
  {
   "cell_type": "code",
   "execution_count": 30,
   "metadata": {
    "collapsed": false
   },
   "outputs": [
    {
     "name": "stdout",
     "output_type": "stream",
     "text": [
      "List of numerical features: ['MSSubClass', 'LotFrontage', 'LotArea', 'OverallQual', 'OverallCond', 'YearBuilt', 'YearRemodAdd', 'MasVnrArea', 'BsmtFinSF1', 'BsmtFinSF2', 'BsmtUnfSF', 'TotalBsmtSF', '1stFlrSF', '2ndFlrSF', 'LowQualFinSF', 'GrLivArea', 'BsmtFullBath', 'BsmtHalfBath', 'FullBath', 'HalfBath', 'BedroomAbvGr', 'KitchenAbvGr', 'TotRmsAbvGrd', 'Fireplaces', 'GarageYrBlt', 'GarageCars', 'GarageArea', 'WoodDeckSF', 'OpenPorchSF', 'EnclosedPorch', '3SsnPorch', 'ScreenPorch', 'PoolArea', 'MoSold', 'YrSold', 'MiscFeature_Shed']\n"
     ]
    }
   ],
   "source": [
    "print(\"List of numerical features:\",NumericalFeatures)"
   ]
  },
  {
   "cell_type": "code",
   "execution_count": 31,
   "metadata": {
    "collapsed": false,
    "scrolled": false
   },
   "outputs": [
    {
     "data": {
      "text/plain": [
       "GarageArea    GarageCars      0.885374\n",
       "TotRmsAbvGrd  GrLivArea       0.829755\n",
       "1stFlrSF      TotalBsmtSF     0.807276\n",
       "SalePrice     OverallQual     0.789142\n",
       "              GrLivArea       0.740379\n",
       "GrLivArea     2ndFlrSF        0.698220\n",
       "TotRmsAbvGrd  BedroomAbvGr    0.678773\n",
       "BsmtFullBath  BsmtFinSF1      0.661160\n",
       "FullBath      GrLivArea       0.644017\n",
       "SalePrice     TotalBsmtSF     0.641917\n",
       "              GarageCars      0.640961\n",
       "              GarageArea      0.623329\n",
       "              1stFlrSF        0.618556\n",
       "TotRmsAbvGrd  2ndFlrSF        0.614764\n",
       "GarageCars    OverallQual     0.612050\n",
       "HalfBath      2ndFlrSF        0.604742\n",
       "GrLivArea     OverallQual     0.602284\n",
       "GarageCars    GarageYrBlt     0.601595\n",
       "YearRemodAdd  YearBuilt       0.583559\n",
       "SalePrice     FullBath        0.571867\n",
       "dtype: float64"
      ]
     },
     "execution_count": 31,
     "metadata": {},
     "output_type": "execute_result"
    }
   ],
   "source": [
    "def CalCorrOfDF(dataframe):\n",
    "    '''\n",
    "    Calculation Correlation of Dataframe\n",
    "    param: \n",
    "        input dataframe that we need to calculation the correlation.\n",
    "    return: \n",
    "        Pandas series contains the correlation value. \n",
    "        (Self-correlation - the diagonal line with value is 1 - is remove)\n",
    "    '''\n",
    "    #Get absolute value of correlation of all columns in dataframe\n",
    "    CorrDF = dataframe.corr().abs()\n",
    "    #The correlation dataframe is symmetrical and the diagonal values are all 1s. \n",
    "    #We are interested in only in the upper (or lower) triangle value, so we will filter out the lower triangle\n",
    "    #and diagonal values. We will create mask for lower triangle(include the diagonal line also)\n",
    "    mask = np.tril(np.ones(CorrDF.shape)).astype('bool')\n",
    "    #Apply upper triangle mask to filter out the duplicated values and the diagonal.\n",
    "    #the True position will be replace by NaN value.\n",
    "    CorrDF = CorrDF.mask(mask)\n",
    "    #Change dataframe to series\n",
    "    CorrSeries = CorrDF.unstack()\n",
    "    #Sort by values of correlation in descending order\n",
    "    CorrSeriesSort = CorrSeries.sort_values(ascending=0)\n",
    "    return CorrSeriesSort.dropna()#drop out all NaN value\n",
    "#Calculation the correlation of all the numerical column in our dataset.\n",
    "correlation = CalCorrOfDF(HousingPriceDF[NumericalFeatures+['SalePrice']])\n",
    "#Only display 20 highest correlation\n",
    "correlation[:20]"
   ]
  },
  {
   "cell_type": "markdown",
   "metadata": {},
   "source": [
    "Now, we will focus on the correlation of other features to SalePrice"
   ]
  },
  {
   "cell_type": "code",
   "execution_count": 32,
   "metadata": {
    "collapsed": false,
    "scrolled": false
   },
   "outputs": [
    {
     "data": {
      "text/plain": [
       "[('OverallQual', 0.78914248547769239),\n",
       " ('GrLivArea', 0.74037924704548796),\n",
       " ('TotalBsmtSF', 0.6419166279661741),\n",
       " ('GarageCars', 0.64096125033065965),\n",
       " ('GarageArea', 0.62332917046589764),\n",
       " ('1stFlrSF', 0.61855561252380431),\n",
       " ('FullBath', 0.57186739542417941),\n",
       " ('TotRmsAbvGrd', 0.55943500613894848),\n",
       " ('YearBuilt', 0.52319359652599517),\n",
       " ('YearRemodAdd', 0.50991622678433168),\n",
       " ('MasVnrArea', 0.48035014849460023),\n",
       " ('Fireplaces', 0.45852829861732319),\n",
       " ('BsmtFinSF1', 0.4075676575318895),\n",
       " ('LotFrontage', 0.36403284792614499),\n",
       " ('2ndFlrSF', 0.34862304737575073),\n",
       " ('OpenPorchSF', 0.31554792275246885),\n",
       " ('WoodDeckSF', 0.315378733262689),\n",
       " ('HalfBath', 0.2997792902100937),\n",
       " ('LotArea', 0.26681112980760585),\n",
       " ('GarageYrBlt', 0.25512309055545568),\n",
       " ('BsmtFullBath', 0.22120912204744808),\n",
       " ('BsmtUnfSF', 0.20604955171845932),\n",
       " ('BedroomAbvGr', 0.18382869068692245),\n",
       " ('KitchenAbvGr', 0.13354388925776853),\n",
       " ('ScreenPorch', 0.11989055290139593),\n",
       " ('EnclosedPorch', 0.11978981907208151),\n",
       " ('PoolArea', 0.10364446748563341),\n",
       " ('OverallCond', 0.082580098204935087),\n",
       " ('MSSubClass', 0.075816929496869107),\n",
       " ('MiscFeature_Shed', 0.05572285196194865),\n",
       " ('MoSold', 0.047014957882880556),\n",
       " ('YrSold', 0.039841359308604191),\n",
       " ('LowQualFinSF', 0.027071214891394128),\n",
       " ('3SsnPorch', 0.020826284802623465),\n",
       " ('BsmtHalfBath', 0.01728147369489973),\n",
       " ('BsmtFinSF2', 0.0029196216554086478)]"
      ]
     },
     "execution_count": 32,
     "metadata": {},
     "output_type": "execute_result"
    }
   ],
   "source": [
    "#Since 'SalePrice' was added at the end of list of columns, \n",
    "#'SalePrice' will only appread in the first index of Pandas series\n",
    "#Keep the value which have first index is 'SalePrice'\n",
    "CorrWithSalePrice = [(x[0][1],x[1]) for x in correlation.iteritems() if x[0][0] == 'SalePrice']\n",
    "CorrWithSalePrice"
   ]
  },
  {
   "cell_type": "markdown",
   "metadata": {},
   "source": [
    "We will take a deep look in each features\n",
    "* <b>MSSubClass:</b> As we can see in data description, the number in this columns is represent to the type of dwelling involved in the sale. So we should treat them as category features.\n",
    "* <b>OverallQual</b> and <b>OverallCond</b>: The values of those features also stands for status of house (categoric features). However, because the higher value stands for the better condition of the house, we can keep the integer value as the scoring of the house and do not need to change them to categoric type.\n",
    "* <b>MoSold:</b> Month Sold: It is not relevant to have relationship between the month number (1,2,3,4...)with the price of house. It might be better if we consider the month as category feature likes Januaray, Febuary...\n",
    "* <b>YrSold:</b> Year Sold, in the long term, year sold may affect to the price of house. But for short term, one year, two years or three years, the economic situation in each year will be more important. Our dataset is for five years, so it is the short term situation in our case. So, we will change YrSold to categoric features. However, if we use our model to predict the price of house in the futures, number \"2006\", \"2007\",\"2008\",\"2009\",\"2010\". Thus, in this notebook, we will ignore YrSold feature."
   ]
  },
  {
   "cell_type": "code",
   "execution_count": 33,
   "metadata": {
    "collapsed": false
   },
   "outputs": [],
   "source": [
    "#Change MSSubClass to category feature by change its datatype from Integer to String.\n",
    "HousingPriceDF.MSSubClass = HousingPriceDF.MSSubClass.astype(str)\n",
    "TestDF.MSSubClass = TestDF.MSSubClass.astype(str)\n",
    "#Change MoSold to category feature by change its datatype from Integer to String.\n",
    "HousingPriceDF.MoSold = HousingPriceDF.MoSold.astype(str)\n",
    "TestDF.MoSold = TestDF.MoSold.astype(str)\n",
    "#Remove YrSold feature\n",
    "HousingPriceDF = HousingPriceDF.drop('YrSold', axis=1)\n",
    "TestDF = TestDF.drop('YrSold', axis=1)"
   ]
  },
  {
   "cell_type": "code",
   "execution_count": 34,
   "metadata": {
    "collapsed": false
   },
   "outputs": [
    {
     "name": "stdout",
     "output_type": "stream",
     "text": [
      "Number of columns those are not numeric: 43\n",
      "Number of columns those are numeric (not count Price Columns): 33\n"
     ]
    }
   ],
   "source": [
    "CategoryFeatures,NumericalFeatures = ExtractFeaturesType(HousingPriceDF)\n",
    "print(\"Number of columns those are not numeric:\", len(CategoryFeatures))\n",
    "print(\"Number of columns those are numeric (not count Price Columns):\", \\\n",
    "      HousingPriceDF.shape[1]-len(CategoryFeatures)-1)"
   ]
  },
  {
   "cell_type": "markdown",
   "metadata": {},
   "source": [
    "Now, we will analyze the correlation between each features:"
   ]
  },
  {
   "cell_type": "code",
   "execution_count": 35,
   "metadata": {
    "collapsed": false,
    "scrolled": false
   },
   "outputs": [
    {
     "data": {
      "text/plain": [
       "[(('GarageArea', 'GarageCars'), 0.88537427238884625),\n",
       " (('TotRmsAbvGrd', 'GrLivArea'), 0.82975451025813496),\n",
       " (('1stFlrSF', 'TotalBsmtSF'), 0.80727558882123773),\n",
       " (('GrLivArea', '2ndFlrSF'), 0.69822036485969019),\n",
       " (('TotRmsAbvGrd', 'BedroomAbvGr'), 0.67877307582280078),\n",
       " (('BsmtFullBath', 'BsmtFinSF1'), 0.66116045213976649),\n",
       " (('FullBath', 'GrLivArea'), 0.64401739943879477),\n",
       " (('TotRmsAbvGrd', '2ndFlrSF'), 0.61476353488652347),\n",
       " (('GarageCars', 'OverallQual'), 0.6120500468517085),\n",
       " (('HalfBath', '2ndFlrSF'), 0.60474197999510659)]"
      ]
     },
     "execution_count": 35,
     "metadata": {},
     "output_type": "execute_result"
    }
   ],
   "source": [
    "#Removing the correlation related to SalePrice\n",
    "CorrWithOutSalePrice = [(x[0],x[1]) for x in correlation.iteritems() if x[0][0] != 'SalePrice']\n",
    "#Display only 10 highest correlation pair\n",
    "CorrWithOutSalePrice[:10]"
   ]
  },
  {
   "cell_type": "markdown",
   "metadata": {},
   "source": [
    "There are some features that have high correlation. Such as, \"GarageArea\" and \"GarageCars\"; \"GarageYrBlt\" and \"YearBuilt\";\"TotRmsAbvGrd\" and \"GrLivArea\"; \"1stFlrSF\" and \"TotalBsmtSF\". Those high correlation are reasonable:\n",
    "- The number of Cars can keep in garage has a strong relation with size of garage\n",
    "- The year built of garage is mostly the same with the year built of the house\n",
    "- The Total number of Room above Grade should be related to size of above grade (ground) living area.\n",
    "- Size of the first floor square and the Total square feet of basement area"
   ]
  },
  {
   "cell_type": "code",
   "execution_count": 36,
   "metadata": {
    "collapsed": false
   },
   "outputs": [
    {
     "data": {
      "image/png": "[encoded data removed]",
      "text/plain": [
       "<matplotlib.figure.Figure at 0x11dd0fb38>"
      ]
     },
     "metadata": {},
     "output_type": "display_data"
    }
   ],
   "source": [
    "GaragaDF = HousingPriceDF[['GarageArea','GarageCars']].sort_values(by='GarageArea',ascending=0)\n",
    "plt.title('GarageArea vs GarageCars')\n",
    "#Because the size of garage area and number of cars in garage are not in the same scale, \n",
    "#we will normalize by divide with maximum value of each one\n",
    "plt.plot(GaragaDF['GarageArea'].values/max(GaragaDF['GarageArea']),'r',label=\"Garage Area Size\")\n",
    "plt.plot(GaragaDF['GarageCars'].values/max(GaragaDF['GarageCars']),'b',label=\"Number of Cars in Garage\")\n",
    "plt.legend()\n",
    "plt.grid()\n",
    "plt.xticks([])\n",
    "plt.show()"
   ]
  },
  {
   "cell_type": "code",
   "execution_count": 37,
   "metadata": {
    "collapsed": false
   },
   "outputs": [
    {
     "data": {
      "image/png": "[encoded data removed]",
      "text/plain": [
       "<matplotlib.figure.Figure at 0x11dd0f780>"
      ]
     },
     "metadata": {},
     "output_type": "display_data"
    }
   ],
   "source": [
    "YearDF = HousingPriceDF[['GarageYrBlt','YearBuilt']].sort_values(by='YearBuilt',ascending=0)\n",
    "plt.title('Year built of House VS Year built of Garage')\n",
    "plt.plot(YearDF['GarageYrBlt'].values,'r',label=\"Year built of garage\")\n",
    "plt.plot(YearDF['YearBuilt'].values,'b',label=\"Year built of house\")\n",
    "plt.grid()\n",
    "plt.legend(loc=\"lower left\")\n",
    "plt.xticks([])\n",
    "plt.show()"
   ]
  },
  {
   "cell_type": "markdown",
   "metadata": {},
   "source": [
    "We can see that mostly the year build of garage is equal to year built of house or higher, since people have to build the house first and build the garage later or in the same time. There are some cases that year build of garage is older than year built of house. It might be some errors."
   ]
  },
  {
   "cell_type": "code",
   "execution_count": 38,
   "metadata": {
    "collapsed": false
   },
   "outputs": [
    {
     "data": {
      "image/png": "[encoded data removed]",
      "text/plain": [
       "<matplotlib.figure.Figure at 0x11d5b8748>"
      ]
     },
     "metadata": {},
     "output_type": "display_data"
    }
   ],
   "source": [
    "NumRoomDF = HousingPriceDF[['TotRmsAbvGrd','GrLivArea']].sort_values(by='GrLivArea',ascending=0)\n",
    "plt.title('Total rooms above grade VS Above grade living area')\n",
    "#Because the number of rooms in ground and the size of ground are not in the same scale, \n",
    "#we will normalize by divide with maximum value of each one\n",
    "plt.plot(NumRoomDF['TotRmsAbvGrd'].values/max(NumRoomDF['TotRmsAbvGrd']),'r',label='Total rooms above grade')\n",
    "plt.plot(NumRoomDF['GrLivArea'].values/max(NumRoomDF['GrLivArea']),'b',label='Above grade living area')\n",
    "plt.grid()\n",
    "plt.legend()\n",
    "plt.xticks([])\n",
    "plt.show()"
   ]
  },
  {
   "cell_type": "code",
   "execution_count": 39,
   "metadata": {
    "collapsed": false
   },
   "outputs": [
    {
     "data": {
      "image/png": "[encoded data removed]",
      "text/plain": [
       "<matplotlib.figure.Figure at 0x11d5b87b8>"
      ]
     },
     "metadata": {},
     "output_type": "display_data"
    }
   ],
   "source": [
    "SFDF = HousingPriceDF[['1stFlrSF','TotalBsmtSF']].sort_values(by='1stFlrSF',ascending=0)\n",
    "plt.title('First Floor square feet VS Total square feet of basement area')\n",
    "plt.plot(SFDF['TotalBsmtSF'].values,'r',label='Total square feet of basement area')\n",
    "plt.plot(SFDF['1stFlrSF'].values,'b',label='First Floor square feet')\n",
    "plt.legend()\n",
    "plt.xticks([])\n",
    "plt.show()"
   ]
  },
  {
   "cell_type": "markdown",
   "metadata": {},
   "source": [
    "Mostly the size of First floor is equal or higher than the size of basement area, and the difference between '1stFlrSF' and 'TotalBsmtSF' is not too high. Thus, we can see the relation between '1stFlrSF' and 'TotalBsmtSF'.\n",
    "* With the high correlation between those pairs or features, it might be redundant to keep both those features. Based on the pair-correlation and the correlation with SalePrice, it is possible to remove 'GarageArea','TotalBsmtSF','TotRmsAbvGrd' and 'GarageYrBlt' without effect the accuracy of our model. We will verify this propose when training model."
   ]
  },
  {
   "cell_type": "code",
   "execution_count": 40,
   "metadata": {
    "collapsed": true
   },
   "outputs": [],
   "source": [
    "redundantFeatures=['GarageArea','TotalBsmtSF','TotRmsAbvGrd', 'GarageYrBlt']"
   ]
  },
  {
   "cell_type": "markdown",
   "metadata": {},
   "source": [
    "### 2. Categoric Features:  \n",
    "For categoric features, to be used in training processes, we need to change them from categoric type to numerical types. There are two approaches to solve this problems:\n",
    "- **Indexed category:** In this approach, we will assign a number to each category in categoric features. This approach is simple, but this is one disavantage. Originally, categoric features is not comparable object, but number is comparable object, so we are unintentionally adding some information to categoric features, which may have negative affect to our model.\n",
    "- **One Hot Encoding:** One hot encoding is a representation of categorical variables by binary vectors. For example, Category A have three possible values: X,Y,Z and the full column is : X,Y,Y,Z,X,Z. After One Hot Encoding transform, we will have a data with three features: A_X, A_Y, A_Z with the values is A_X: [1,0,0,0,1,0]; A_Y:[0,1,1,0,0,0]; A_Z: [0,0,0,1,0,1]. By this method, we still keep the meaning and the importance of each categories in each feature without adding unintentionally information. The disavantage of this approach is the dimension increases a lot.  \n",
    "\n",
    "\n",
    "In our problem, we have around 80 features with 1200 datapoint. The size of problem is not too big, even after applying one hot encoding. So, we will apply One Hot Encoding in this notebook.  \n",
    "\n",
    "In this notebook, we will use get_dummies function of Pandas DataFrame to apply One Hot Encoding. dummy_na is set to False to ignore the missing value (NA). For example, Alley features with three possible value: Grvl, Pave and NA, only two categories will create: Alley_Grvl and Alley_Pave. If Alley columns values are: Grvl,Grvl,NA,Pave,NA,Pave, the new dataset will be Alley_Grvl: [1,1,0,0,0,0]; Alley_Pave: [0,0,0,1,0,1]. So the missing value of Alley in the original feature mean not available Alley in the house, after One hot encoding, it means the house is not Alley_Grvl and not Alley_Pave as well. So by applying get_dummies for one hot encoding, we fixs the missing value of categoric features"
   ]
  },
  {
   "cell_type": "code",
   "execution_count": 41,
   "metadata": {
    "collapsed": false
   },
   "outputs": [
    {
     "name": "stdout",
     "output_type": "stream",
     "text": [
      "Number of categoric features: 43\n",
      "List of categoric features: ['MSSubClass', 'MSZoning', 'Street', 'Alley', 'LotShape', 'LandContour', 'Utilities', 'LotConfig', 'LandSlope', 'Neighborhood', 'Condition1', 'Condition2', 'BldgType', 'HouseStyle', 'RoofStyle', 'RoofMatl', 'Exterior1st', 'Exterior2nd', 'MasVnrType', 'ExterQual', 'ExterCond', 'Foundation', 'BsmtQual', 'BsmtCond', 'BsmtExposure', 'BsmtFinType1', 'BsmtFinType2', 'Heating', 'HeatingQC', 'CentralAir', 'Electrical', 'KitchenQual', 'Functional', 'FireplaceQu', 'GarageType', 'GarageFinish', 'GarageQual', 'GarageCond', 'PavedDrive', 'Fence', 'MoSold', 'SaleType', 'SaleCondition']\n"
     ]
    }
   ],
   "source": [
    "print(\"Number of categoric features:\",len(CategoryFeatures))\n",
    "print(\"List of categoric features:\",CategoryFeatures)"
   ]
  },
  {
   "cell_type": "code",
   "execution_count": 42,
   "metadata": {
    "collapsed": false
   },
   "outputs": [
    {
     "name": "stdout",
     "output_type": "stream",
     "text": [
      "Size of categoric dataset after apply one hot encoding: (1200, 264)\n"
     ]
    },
    {
     "data": {
      "text/html": [
       "<div>\n",
       "<table border=\"1\" class=\"dataframe\">\n",
       "  <thead>\n",
       "    <tr style=\"text-align: right;\">\n",
       "      <th></th>\n",
       "      <th>MSSubClass_120</th>\n",
       "      <th>MSSubClass_160</th>\n",
       "      <th>MSSubClass_180</th>\n",
       "      <th>MSSubClass_190</th>\n",
       "      <th>MSSubClass_20</th>\n",
       "      <th>MSSubClass_30</th>\n",
       "      <th>MSSubClass_40</th>\n",
       "      <th>MSSubClass_45</th>\n",
       "      <th>MSSubClass_50</th>\n",
       "      <th>MSSubClass_60</th>\n",
       "      <th>...</th>\n",
       "      <th>SaleType_ConLw</th>\n",
       "      <th>SaleType_New</th>\n",
       "      <th>SaleType_Oth</th>\n",
       "      <th>SaleType_WD</th>\n",
       "      <th>SaleCondition_Abnorml</th>\n",
       "      <th>SaleCondition_AdjLand</th>\n",
       "      <th>SaleCondition_Alloca</th>\n",
       "      <th>SaleCondition_Family</th>\n",
       "      <th>SaleCondition_Normal</th>\n",
       "      <th>SaleCondition_Partial</th>\n",
       "    </tr>\n",
       "  </thead>\n",
       "  <tbody>\n",
       "    <tr>\n",
       "      <th>495</th>\n",
       "      <td>0</td>\n",
       "      <td>0</td>\n",
       "      <td>0</td>\n",
       "      <td>0</td>\n",
       "      <td>0</td>\n",
       "      <td>1</td>\n",
       "      <td>0</td>\n",
       "      <td>0</td>\n",
       "      <td>0</td>\n",
       "      <td>0</td>\n",
       "      <td>...</td>\n",
       "      <td>0</td>\n",
       "      <td>0</td>\n",
       "      <td>0</td>\n",
       "      <td>1</td>\n",
       "      <td>1</td>\n",
       "      <td>0</td>\n",
       "      <td>0</td>\n",
       "      <td>0</td>\n",
       "      <td>0</td>\n",
       "      <td>0</td>\n",
       "    </tr>\n",
       "    <tr>\n",
       "      <th>916</th>\n",
       "      <td>0</td>\n",
       "      <td>0</td>\n",
       "      <td>0</td>\n",
       "      <td>0</td>\n",
       "      <td>1</td>\n",
       "      <td>0</td>\n",
       "      <td>0</td>\n",
       "      <td>0</td>\n",
       "      <td>0</td>\n",
       "      <td>0</td>\n",
       "      <td>...</td>\n",
       "      <td>0</td>\n",
       "      <td>0</td>\n",
       "      <td>0</td>\n",
       "      <td>1</td>\n",
       "      <td>1</td>\n",
       "      <td>0</td>\n",
       "      <td>0</td>\n",
       "      <td>0</td>\n",
       "      <td>0</td>\n",
       "      <td>0</td>\n",
       "    </tr>\n",
       "    <tr>\n",
       "      <th>968</th>\n",
       "      <td>0</td>\n",
       "      <td>0</td>\n",
       "      <td>0</td>\n",
       "      <td>0</td>\n",
       "      <td>0</td>\n",
       "      <td>0</td>\n",
       "      <td>0</td>\n",
       "      <td>0</td>\n",
       "      <td>1</td>\n",
       "      <td>0</td>\n",
       "      <td>...</td>\n",
       "      <td>0</td>\n",
       "      <td>0</td>\n",
       "      <td>0</td>\n",
       "      <td>1</td>\n",
       "      <td>1</td>\n",
       "      <td>0</td>\n",
       "      <td>0</td>\n",
       "      <td>0</td>\n",
       "      <td>0</td>\n",
       "      <td>0</td>\n",
       "    </tr>\n",
       "    <tr>\n",
       "      <th>533</th>\n",
       "      <td>0</td>\n",
       "      <td>0</td>\n",
       "      <td>0</td>\n",
       "      <td>0</td>\n",
       "      <td>1</td>\n",
       "      <td>0</td>\n",
       "      <td>0</td>\n",
       "      <td>0</td>\n",
       "      <td>0</td>\n",
       "      <td>0</td>\n",
       "      <td>...</td>\n",
       "      <td>0</td>\n",
       "      <td>0</td>\n",
       "      <td>0</td>\n",
       "      <td>1</td>\n",
       "      <td>0</td>\n",
       "      <td>0</td>\n",
       "      <td>0</td>\n",
       "      <td>0</td>\n",
       "      <td>1</td>\n",
       "      <td>0</td>\n",
       "    </tr>\n",
       "    <tr>\n",
       "      <th>30</th>\n",
       "      <td>0</td>\n",
       "      <td>0</td>\n",
       "      <td>0</td>\n",
       "      <td>0</td>\n",
       "      <td>0</td>\n",
       "      <td>0</td>\n",
       "      <td>0</td>\n",
       "      <td>0</td>\n",
       "      <td>0</td>\n",
       "      <td>0</td>\n",
       "      <td>...</td>\n",
       "      <td>0</td>\n",
       "      <td>0</td>\n",
       "      <td>0</td>\n",
       "      <td>1</td>\n",
       "      <td>0</td>\n",
       "      <td>0</td>\n",
       "      <td>0</td>\n",
       "      <td>0</td>\n",
       "      <td>1</td>\n",
       "      <td>0</td>\n",
       "    </tr>\n",
       "  </tbody>\n",
       "</table>\n",
       "<p>5 rows × 264 columns</p>\n",
       "</div>"
      ],
      "text/plain": [
       "     MSSubClass_120  MSSubClass_160  MSSubClass_180  MSSubClass_190  \\\n",
       "495               0               0               0               0   \n",
       "916               0               0               0               0   \n",
       "968               0               0               0               0   \n",
       "533               0               0               0               0   \n",
       "30                0               0               0               0   \n",
       "\n",
       "     MSSubClass_20  MSSubClass_30  MSSubClass_40  MSSubClass_45  \\\n",
       "495              0              1              0              0   \n",
       "916              1              0              0              0   \n",
       "968              0              0              0              0   \n",
       "533              1              0              0              0   \n",
       "30               0              0              0              0   \n",
       "\n",
       "     MSSubClass_50  MSSubClass_60          ...            SaleType_ConLw  \\\n",
       "495              0              0          ...                         0   \n",
       "916              0              0          ...                         0   \n",
       "968              1              0          ...                         0   \n",
       "533              0              0          ...                         0   \n",
       "30               0              0          ...                         0   \n",
       "\n",
       "     SaleType_New  SaleType_Oth  SaleType_WD  SaleCondition_Abnorml  \\\n",
       "495             0             0            1                      1   \n",
       "916             0             0            1                      1   \n",
       "968             0             0            1                      1   \n",
       "533             0             0            1                      0   \n",
       "30              0             0            1                      0   \n",
       "\n",
       "     SaleCondition_AdjLand  SaleCondition_Alloca  SaleCondition_Family  \\\n",
       "495                      0                     0                     0   \n",
       "916                      0                     0                     0   \n",
       "968                      0                     0                     0   \n",
       "533                      0                     0                     0   \n",
       "30                       0                     0                     0   \n",
       "\n",
       "     SaleCondition_Normal  SaleCondition_Partial  \n",
       "495                     0                      0  \n",
       "916                     0                      0  \n",
       "968                     0                      0  \n",
       "533                     1                      0  \n",
       "30                      1                      0  \n",
       "\n",
       "[5 rows x 264 columns]"
      ]
     },
     "execution_count": 42,
     "metadata": {},
     "output_type": "execute_result"
    }
   ],
   "source": [
    "#Apply One Hot Encoding for train dataset with only categoric features\n",
    "OneHotEncodeTrainDF =  pd.get_dummies(HousingPriceDF[CategoryFeatures], prefix=CategoryFeatures,dummy_na=False)\n",
    "print(\"Size of categoric dataset after apply one hot encoding:\",OneHotEncodeTrainDF.shape)\n",
    "OneHotEncodeTrainDF.head()"
   ]
  },
  {
   "cell_type": "markdown",
   "metadata": {},
   "source": [
    "So from 43 categoric features, we create 264 One Hot Encoding features. Now, we need to apply one hot encoding to test dataset but make sure that it is the same schema with train set."
   ]
  },
  {
   "cell_type": "code",
   "execution_count": 43,
   "metadata": {
    "collapsed": false
   },
   "outputs": [],
   "source": [
    "# The value which exists in train set but not in test set will make one hot encoded dataframe of testDF lacks columns\n",
    "#comparing with OneHotEncodeTrainDF so we create a dummy Test Dataframe that have the same schema \n",
    "#(same number and order of features) as TrainDataframe, and the same row index as TestDF. \n",
    "#We will all entries with ZERO.\n",
    "OneHotEncodeTestDF = pd.DataFrame(0, index=TestDF.index.values, columns=OneHotEncodeTrainDF.columns)\n",
    "#One Hot Encoding transform for test dataframe\n",
    "onehotdata= pd.get_dummies(TestDF[CategoryFeatures], prefix=CategoryFeatures)\n",
    "# New values which exists in test set but not in train set will create new columns in OneHotEncodeTestDF\n",
    "# that does not exist in OneHotEncodeTrainDF. \n",
    "# To fix that, we will get the intersection of columns in OneHotEncodeTrainDF and onehotdata to fill data.\n",
    "datafeatures = list(set(OneHotEncodeTrainDF.columns).intersection(onehotdata.columns))\n",
    "#Filling data to Test DataFrame\n",
    "OneHotEncodeTestDF[datafeatures] = onehotdata[datafeatures]"
   ]
  },
  {
   "cell_type": "markdown",
   "metadata": {},
   "source": [
    "Now, we will analyzi the correlation of new features with SalePrice and between each features like we did with numerical features."
   ]
  },
  {
   "cell_type": "code",
   "execution_count": 44,
   "metadata": {
    "collapsed": false
   },
   "outputs": [
    {
     "data": {
      "text/plain": [
       "Utilities_NoSeWa       Utilities_AllPub       1.000000\n",
       "CentralAir_Y           CentralAir_N           1.000000\n",
       "Street_Pave            Street_Grvl            1.000000\n",
       "BldgType_Duplex        MSSubClass_90          1.000000\n",
       "SaleCondition_Partial  SaleType_New           0.984125\n",
       "BldgType_2fmCon        MSSubClass_190         0.981562\n",
       "Exterior2nd_VinylSd    Exterior1st_VinylSd    0.979788\n",
       "Exterior2nd_CmentBd    Exterior1st_CemntBd    0.979344\n",
       "Exterior2nd_MetalSd    Exterior1st_MetalSd    0.977326\n",
       "HouseStyle_1.5Unf      MSSubClass_45          0.960364\n",
       "dtype: float64"
      ]
     },
     "execution_count": 44,
     "metadata": {},
     "output_type": "execute_result"
    }
   ],
   "source": [
    "OneHotEncodeTrainDF['SalePrice'] = HousingPriceDF['SalePrice']\n",
    "correlation = CalCorrOfDF(OneHotEncodeTrainDF)\n",
    "correlation[:10]"
   ]
  },
  {
   "cell_type": "code",
   "execution_count": 45,
   "metadata": {
    "collapsed": false
   },
   "outputs": [
    {
     "name": "stdout",
     "output_type": "stream",
     "text": [
      "Top 10 features that have high correlation with SalePrice:\n"
     ]
    },
    {
     "data": {
      "text/plain": [
       "[('ExterQual_TA', 0.58640851572719443),\n",
       " ('BsmtQual_Ex', 0.56252072987068369),\n",
       " ('KitchenQual_TA', 0.51383294988004846),\n",
       " ('KitchenQual_Ex', 0.50603935426915714),\n",
       " ('Foundation_PConc', 0.49774387766910533),\n",
       " ('ExterQual_Gd', 0.44967312748108745),\n",
       " ('ExterQual_Ex', 0.44901280539483523),\n",
       " ('BsmtQual_TA', 0.44701917373444489),\n",
       " ('HeatingQC_Ex', 0.43806831672275415),\n",
       " ('BsmtFinType1_GLQ', 0.43226778295017149)]"
      ]
     },
     "execution_count": 45,
     "metadata": {},
     "output_type": "execute_result"
    }
   ],
   "source": [
    "print(\"Top 10 features that have high correlation with SalePrice:\")\n",
    "[(x[0][1],x[1]) for x in correlation.iteritems() if x[0][0] == 'SalePrice'][:10]"
   ]
  },
  {
   "cell_type": "markdown",
   "metadata": {},
   "source": [
    "Clearly that with the new features which contain only binary value, the correlation is not much high like the numerical features. We expect that the overall contribution of many one hot encoding features."
   ]
  },
  {
   "cell_type": "code",
   "execution_count": 46,
   "metadata": {
    "collapsed": false
   },
   "outputs": [
    {
     "name": "stdout",
     "output_type": "stream",
     "text": [
      "Top 10 pairs of features that have high correlation:\n"
     ]
    },
    {
     "data": {
      "text/plain": [
       "[(('Utilities_NoSeWa', 'Utilities_AllPub'), 1.0),\n",
       " (('CentralAir_Y', 'CentralAir_N'), 1.0),\n",
       " (('Street_Pave', 'Street_Grvl'), 1.0),\n",
       " (('BldgType_Duplex', 'MSSubClass_90'), 1.0),\n",
       " (('SaleCondition_Partial', 'SaleType_New'), 0.98412541616648797),\n",
       " (('BldgType_2fmCon', 'MSSubClass_190'), 0.98156184029742732),\n",
       " (('Exterior2nd_VinylSd', 'Exterior1st_VinylSd'), 0.97978837208364555),\n",
       " (('Exterior2nd_CmentBd', 'Exterior1st_CemntBd'), 0.97934408468311429),\n",
       " (('Exterior2nd_MetalSd', 'Exterior1st_MetalSd'), 0.97732643565006627),\n",
       " (('HouseStyle_1.5Unf', 'MSSubClass_45'), 0.9603644736765351)]"
      ]
     },
     "execution_count": 46,
     "metadata": {},
     "output_type": "execute_result"
    }
   ],
   "source": [
    "print(\"Top 10 pairs of features that have high correlation:\")\n",
    "[(x[0],x[1]) for x in correlation.iteritems() if x[0][0] != 'SalePrice'][:10]"
   ]
  },
  {
   "cell_type": "markdown",
   "metadata": {},
   "source": [
    "Again, with the same reason, the binary value make the correlations between features seem too be high. However, the number of features is too high to analyze one by one. We will use PCA to reduce the number of dimension later."
   ]
  },
  {
   "cell_type": "markdown",
   "metadata": {},
   "source": [
    "### 3.Conclusion:   \n",
    "So far, there are a couple steps that we did for features engineering:\n",
    "- Change **MSSubClass** and **MoSold** to Category type.\n",
    "- Remove **YrSold** features\n",
    "- Apply One Hot Encoding transform to Category type.  \n",
    "\n",
    "Below is our new dataset"
   ]
  },
  {
   "cell_type": "code",
   "execution_count": 47,
   "metadata": {
    "collapsed": false
   },
   "outputs": [
    {
     "name": "stdout",
     "output_type": "stream",
     "text": [
      "Size of new dataframe: (1200, 298)\n",
      "Number of numerical features: 33\n",
      "Number of One Hot Encoding features: 264\n"
     ]
    },
    {
     "data": {
      "text/html": [
       "<div>\n",
       "<table border=\"1\" class=\"dataframe\">\n",
       "  <thead>\n",
       "    <tr style=\"text-align: right;\">\n",
       "      <th></th>\n",
       "      <th>LotFrontage</th>\n",
       "      <th>LotArea</th>\n",
       "      <th>OverallQual</th>\n",
       "      <th>OverallCond</th>\n",
       "      <th>YearBuilt</th>\n",
       "      <th>YearRemodAdd</th>\n",
       "      <th>MasVnrArea</th>\n",
       "      <th>BsmtFinSF1</th>\n",
       "      <th>BsmtFinSF2</th>\n",
       "      <th>BsmtUnfSF</th>\n",
       "      <th>...</th>\n",
       "      <th>SaleType_New</th>\n",
       "      <th>SaleType_Oth</th>\n",
       "      <th>SaleType_WD</th>\n",
       "      <th>SaleCondition_Abnorml</th>\n",
       "      <th>SaleCondition_AdjLand</th>\n",
       "      <th>SaleCondition_Alloca</th>\n",
       "      <th>SaleCondition_Family</th>\n",
       "      <th>SaleCondition_Normal</th>\n",
       "      <th>SaleCondition_Partial</th>\n",
       "      <th>SalePrice</th>\n",
       "    </tr>\n",
       "  </thead>\n",
       "  <tbody>\n",
       "    <tr>\n",
       "      <th>495</th>\n",
       "      <td>60.0</td>\n",
       "      <td>7879</td>\n",
       "      <td>4</td>\n",
       "      <td>5</td>\n",
       "      <td>1920</td>\n",
       "      <td>1950</td>\n",
       "      <td>0.0</td>\n",
       "      <td>495</td>\n",
       "      <td>0</td>\n",
       "      <td>225</td>\n",
       "      <td>...</td>\n",
       "      <td>0</td>\n",
       "      <td>0</td>\n",
       "      <td>1</td>\n",
       "      <td>1</td>\n",
       "      <td>0</td>\n",
       "      <td>0</td>\n",
       "      <td>0</td>\n",
       "      <td>0</td>\n",
       "      <td>0</td>\n",
       "      <td>34900</td>\n",
       "    </tr>\n",
       "    <tr>\n",
       "      <th>916</th>\n",
       "      <td>50.0</td>\n",
       "      <td>9000</td>\n",
       "      <td>2</td>\n",
       "      <td>3</td>\n",
       "      <td>1949</td>\n",
       "      <td>1950</td>\n",
       "      <td>0.0</td>\n",
       "      <td>50</td>\n",
       "      <td>0</td>\n",
       "      <td>430</td>\n",
       "      <td>...</td>\n",
       "      <td>0</td>\n",
       "      <td>0</td>\n",
       "      <td>1</td>\n",
       "      <td>1</td>\n",
       "      <td>0</td>\n",
       "      <td>0</td>\n",
       "      <td>0</td>\n",
       "      <td>0</td>\n",
       "      <td>0</td>\n",
       "      <td>35311</td>\n",
       "    </tr>\n",
       "    <tr>\n",
       "      <th>968</th>\n",
       "      <td>50.0</td>\n",
       "      <td>5925</td>\n",
       "      <td>3</td>\n",
       "      <td>6</td>\n",
       "      <td>1910</td>\n",
       "      <td>1950</td>\n",
       "      <td>0.0</td>\n",
       "      <td>0</td>\n",
       "      <td>0</td>\n",
       "      <td>600</td>\n",
       "      <td>...</td>\n",
       "      <td>0</td>\n",
       "      <td>0</td>\n",
       "      <td>1</td>\n",
       "      <td>1</td>\n",
       "      <td>0</td>\n",
       "      <td>0</td>\n",
       "      <td>0</td>\n",
       "      <td>0</td>\n",
       "      <td>0</td>\n",
       "      <td>37900</td>\n",
       "    </tr>\n",
       "    <tr>\n",
       "      <th>533</th>\n",
       "      <td>50.0</td>\n",
       "      <td>5000</td>\n",
       "      <td>1</td>\n",
       "      <td>3</td>\n",
       "      <td>1946</td>\n",
       "      <td>1950</td>\n",
       "      <td>0.0</td>\n",
       "      <td>0</td>\n",
       "      <td>0</td>\n",
       "      <td>0</td>\n",
       "      <td>...</td>\n",
       "      <td>0</td>\n",
       "      <td>0</td>\n",
       "      <td>1</td>\n",
       "      <td>0</td>\n",
       "      <td>0</td>\n",
       "      <td>0</td>\n",
       "      <td>0</td>\n",
       "      <td>1</td>\n",
       "      <td>0</td>\n",
       "      <td>39300</td>\n",
       "    </tr>\n",
       "    <tr>\n",
       "      <th>30</th>\n",
       "      <td>50.0</td>\n",
       "      <td>8500</td>\n",
       "      <td>4</td>\n",
       "      <td>4</td>\n",
       "      <td>1920</td>\n",
       "      <td>1950</td>\n",
       "      <td>0.0</td>\n",
       "      <td>0</td>\n",
       "      <td>0</td>\n",
       "      <td>649</td>\n",
       "      <td>...</td>\n",
       "      <td>0</td>\n",
       "      <td>0</td>\n",
       "      <td>1</td>\n",
       "      <td>0</td>\n",
       "      <td>0</td>\n",
       "      <td>0</td>\n",
       "      <td>0</td>\n",
       "      <td>1</td>\n",
       "      <td>0</td>\n",
       "      <td>40000</td>\n",
       "    </tr>\n",
       "  </tbody>\n",
       "</table>\n",
       "<p>5 rows × 298 columns</p>\n",
       "</div>"
      ],
      "text/plain": [
       "     LotFrontage  LotArea  OverallQual  OverallCond  YearBuilt  YearRemodAdd  \\\n",
       "495         60.0     7879            4            5       1920          1950   \n",
       "916         50.0     9000            2            3       1949          1950   \n",
       "968         50.0     5925            3            6       1910          1950   \n",
       "533         50.0     5000            1            3       1946          1950   \n",
       "30          50.0     8500            4            4       1920          1950   \n",
       "\n",
       "     MasVnrArea  BsmtFinSF1  BsmtFinSF2  BsmtUnfSF    ...      SaleType_New  \\\n",
       "495         0.0         495           0        225    ...                 0   \n",
       "916         0.0          50           0        430    ...                 0   \n",
       "968         0.0           0           0        600    ...                 0   \n",
       "533         0.0           0           0          0    ...                 0   \n",
       "30          0.0           0           0        649    ...                 0   \n",
       "\n",
       "     SaleType_Oth  SaleType_WD  SaleCondition_Abnorml  SaleCondition_AdjLand  \\\n",
       "495             0            1                      1                      0   \n",
       "916             0            1                      1                      0   \n",
       "968             0            1                      1                      0   \n",
       "533             0            1                      0                      0   \n",
       "30              0            1                      0                      0   \n",
       "\n",
       "     SaleCondition_Alloca  SaleCondition_Family  SaleCondition_Normal  \\\n",
       "495                     0                     0                     0   \n",
       "916                     0                     0                     0   \n",
       "968                     0                     0                     0   \n",
       "533                     0                     0                     1   \n",
       "30                      0                     0                     1   \n",
       "\n",
       "     SaleCondition_Partial  SalePrice  \n",
       "495                      0      34900  \n",
       "916                      0      35311  \n",
       "968                      0      37900  \n",
       "533                      0      39300  \n",
       "30                       0      40000  \n",
       "\n",
       "[5 rows x 298 columns]"
      ]
     },
     "execution_count": 47,
     "metadata": {},
     "output_type": "execute_result"
    }
   ],
   "source": [
    "MergeFeatureDF = pd.concat([HousingPriceDF[NumericalFeatures], OneHotEncodeTrainDF], axis=1)\n",
    "print(\"Size of new dataframe:\",MergeFeatureDF.shape)\n",
    "print(\"Number of numerical features:\",len(NumericalFeatures))\n",
    "print(\"Number of One Hot Encoding features:\",OneHotEncodeTrainDF.shape[1]-1)\n",
    "MergeFeatureDF.head()"
   ]
  },
  {
   "cell_type": "markdown",
   "metadata": {},
   "source": [
    " As previous discuss, there are some features that have low correlation with Sale Price and some redundant features, we will verify that we can remove them without having negative affect to the accuracy of model or not in below Training model part."
   ]
  },
  {
   "cell_type": "markdown",
   "metadata": {},
   "source": [
    "# B. Training Model:  \n",
    "In this part, we will use regression models from scikit learn to train our model. \n",
    "* First, we will use simple mode: linear regression model, and train with only numerical features, with only One Hot Encoding Features and the merging of those two kinds of features. In this first step, we will try to reduce the numerical features that has low correlation with SalePrice and redundant numerical Features. We will also try to apply PCA to reduct the dimension of our dataset.\n",
    "* Second, we will use some other complex regression model from scikit learn.  \n",
    "\n",
    "\n",
    "Throughout this part, we will use KFold to cross validation and measure the performance of our model by Root-Mean-Squared-Error (RMSE) between the logarithm of the predicted value and the logarithm of the observed sales price."
   ]
  },
  {
   "cell_type": "code",
   "execution_count": 48,
   "metadata": {
    "collapsed": true
   },
   "outputs": [],
   "source": [
    "from sklearn.model_selection import KFold\n",
    "\n",
    "def KFoldTrain(featuresMatrix,log_price,model,foldNum):\n",
    "    \"\"\"\n",
    "    Verify model with K Fold cross validation by Root-Mean-Square-Error(RMSE) metric\n",
    "    Args:\n",
    "        featuresMatrix: features matrix\n",
    "        log_price:      logarithm of Sale price\n",
    "        model:          input model need to be validated.\n",
    "        foldNum:        number of fold for training.\n",
    "    Returns:\n",
    "        RMSE of train set, RMSE of test set\n",
    "    \"\"\"\n",
    "    # Setup KFold, data will be shuffle before spliting\n",
    "    kf = KFold(n_splits=foldNum,shuffle=True)\n",
    "    kf.get_n_splits(featuresMatrix)\n",
    "    TrainError = []\n",
    "    TestError = []\n",
    "    for train_index, test_index in kf.split(featuresMatrix):\n",
    "        #Split dataset to train set and test set\n",
    "        X_train, X_test = featuresMatrix[train_index], featuresMatrix[test_index]\n",
    "        #Split target value to according to train set and test set\n",
    "        y_train, y_test = log_price[train_index], log_price[test_index]\n",
    "        #Predict for test set\n",
    "        model.fit(X_train,y_train)\n",
    "        predictTrainPrice = model.predict(X_train)\n",
    "        predictTestPrice = model.predict(X_test)\n",
    "        #Calculate Root mean square error.\n",
    "        TrainError.append(CalRMSE(predictTrainPrice, y_train))\n",
    "        TestError.append(CalRMSE(predictTestPrice, y_test))\n",
    "    return TrainError,TestError"
   ]
  },
  {
   "cell_type": "markdown",
   "metadata": {},
   "source": [
    "### 1. Training only with numerical features:\n",
    "First, we will try with simple linear regression model from scikit-learn and train with numerical features. After filling missing values, we expect that there is no missing value in our dataset in NumericalFeatures"
   ]
  },
  {
   "cell_type": "code",
   "execution_count": 49,
   "metadata": {
    "collapsed": false
   },
   "outputs": [
    {
     "name": "stdout",
     "output_type": "stream",
     "text": [
      "Number of features have missing values in test set 0\n"
     ]
    },
    {
     "data": {
      "text/html": [
       "<div>\n",
       "<table border=\"1\" class=\"dataframe\">\n",
       "  <thead>\n",
       "    <tr style=\"text-align: right;\">\n",
       "      <th></th>\n",
       "      <th>FeatureName</th>\n",
       "      <th>MissingNum</th>\n",
       "      <th>MissingPercentage</th>\n",
       "      <th>Type</th>\n",
       "    </tr>\n",
       "  </thead>\n",
       "  <tbody>\n",
       "  </tbody>\n",
       "</table>\n",
       "</div>"
      ],
      "text/plain": [
       "Empty DataFrame\n",
       "Columns: [FeatureName, MissingNum, MissingPercentage, Type]\n",
       "Index: []"
      ]
     },
     "execution_count": 49,
     "metadata": {},
     "output_type": "execute_result"
    }
   ],
   "source": [
    "MissTestDf = CalMissingInfor(HousingPriceDF[NumericalFeatures])\n",
    "print(\"Number of features have missing values in test set\",MissTestDf.shape[0])\n",
    "MissTestDf"
   ]
  },
  {
   "cell_type": "markdown",
   "metadata": {},
   "source": [
    "First, we will train with all numerical features"
   ]
  },
  {
   "cell_type": "code",
   "execution_count": 50,
   "metadata": {
    "collapsed": false
   },
   "outputs": [
    {
     "name": "stdout",
     "output_type": "stream",
     "text": [
      "Mean of RMSE of test set: 0.13980662853\n"
     ]
    }
   ],
   "source": [
    "#Init regresion model. fit_intercept=True because our dataset is not centre.\n",
    "LinearRegr = linear_model.LinearRegression( fit_intercept=True)\n",
    "#Extract features matrix from features dataframe \n",
    "trainFeatures = HousingPriceDF[NumericalFeatures].values\n",
    "#We will train with logarithm of housing price\n",
    "Log_SalePrice = np.log(HousingPriceDF['SalePrice'].values)\n",
    "#Since we have 1200 datapoints in our dataset, we will validate with 5-fold, \n",
    "#then the size of validation test will be 1200/5 =240, nearly the same with size of our testset.\n",
    "#Get RMSE from 5-fold cross validation\n",
    "RMSE = KFoldTrain(trainFeatures,Log_SalePrice,LinearRegr,5)\n",
    "print(\"Mean of RMSE of test set:\",np.mean(RMSE[1]))"
   ]
  },
  {
   "cell_type": "markdown",
   "metadata": {},
   "source": [
    "With only numerical features, the RMSE  is much better than the simplist approach using mean value to predict (With RMSE is std of target is 0.40).  \n",
    "\n",
    "Now we will visuallize the predict value and the real value to know how it fit"
   ]
  },
  {
   "cell_type": "code",
   "execution_count": 51,
   "metadata": {
    "collapsed": false
   },
   "outputs": [
    {
     "name": "stdout",
     "output_type": "stream",
     "text": [
      "Size of train set: (960, 77)\n",
      "Size of test set: (240, 77)\n"
     ]
    }
   ],
   "source": [
    "#Split dataset to train and test to visualize the result on train set and test set\n",
    "train=HousingPriceDF.sample(frac=0.8)\n",
    "#Sort our dataset by SalePrice for more clear shape of housing price.\n",
    "train = train.sort_values(by='SalePrice',ascending=1)\n",
    "test=HousingPriceDF.drop(train.index)\n",
    "print(\"Size of train set:\",train.shape)\n",
    "print(\"Size of test set:\",test.shape)"
   ]
  },
  {
   "cell_type": "code",
   "execution_count": 52,
   "metadata": {
    "collapsed": true
   },
   "outputs": [],
   "source": [
    "#Transform features value from dataframe to matrix\n",
    "trainF = train[NumericalFeatures].values\n",
    "testF = test[NumericalFeatures].values\n",
    "#Get the logarithm of price\n",
    "log_trainSP = np.log(train['SalePrice'].values)\n",
    "log_testSP = np.log(test['SalePrice'].values)"
   ]
  },
  {
   "cell_type": "code",
   "execution_count": 53,
   "metadata": {
    "collapsed": false
   },
   "outputs": [
    {
     "data": {
      "image/png": "[encoded data removed]",
      "text/plain": [
       "<matplotlib.figure.Figure at 0x11a20c240>"
      ]
     },
     "metadata": {},
     "output_type": "display_data"
    }
   ],
   "source": [
    "LinearRegr.fit(trainF,log_trainSP)\n",
    "plt.title(\"Predicted and real logarithm of Sale Price on Train Set\")\n",
    "plt.plot(LinearRegr.predict(trainF),'r',label='Predicted values')\n",
    "plt.plot(log_trainSP,'b',label='Real values')\n",
    "plt.legend(loc='lower left')\n",
    "plt.xticks([])\n",
    "plt.ylabel(\"Logarithm of Sale Price\")\n",
    "plt.grid()\n",
    "plt.show()"
   ]
  },
  {
   "cell_type": "code",
   "execution_count": 54,
   "metadata": {
    "collapsed": false
   },
   "outputs": [
    {
     "data": {
      "image/png": "[encoded data removed]",
      "text/plain": [
       "<matplotlib.figure.Figure at 0x11d5b38d0>"
      ]
     },
     "metadata": {},
     "output_type": "display_data"
    }
   ],
   "source": [
    "plt.title(\"Predicted and real logarithm of Sale Price on Test Set\")\n",
    "plt.plot(LinearRegr.predict(testF),'r',label='Predicted values')\n",
    "plt.plot(log_testSP,'b',label='Real values')\n",
    "plt.legend(loc='lower left')\n",
    "plt.xticks([])\n",
    "plt.ylabel(\"Logarithm of Sale Price\")\n",
    "plt.grid()\n",
    "plt.show()"
   ]
  },
  {
   "cell_type": "markdown",
   "metadata": {},
   "source": [
    "We can see that the predicted value curve can capture the shape of the real value curve, and it fit better in train set than test set.  \n",
    "\n",
    "Now, we will try to reduce the features that have low correlation with SalePrice. "
   ]
  },
  {
   "cell_type": "code",
   "execution_count": 55,
   "metadata": {
    "collapsed": true
   },
   "outputs": [],
   "source": [
    "correlation = CalCorrOfDF(HousingPriceDF[NumericalFeatures+['SalePrice']])\n",
    "#Get only the correlation related to SalePrice\n",
    "CorrWithSalePrice = [(x[0][1],x[1]) for x in correlation.iteritems() if x[0][0] == 'SalePrice']"
   ]
  },
  {
   "cell_type": "code",
   "execution_count": 56,
   "metadata": {
    "collapsed": false
   },
   "outputs": [
    {
     "name": "stdout",
     "output_type": "stream",
     "text": [
      "Number of features that have lowest RMSE 29\n",
      "Min RMSE 0.138289573407\n"
     ]
    },
    {
     "data": {
      "image/png": "[encoded data removed]",
      "text/plain": [
       "<matplotlib.figure.Figure at 0x11d5a2c50>"
      ]
     },
     "metadata": {},
     "output_type": "display_data"
    }
   ],
   "source": [
    "#List of features have high correlation with SalePrice, already in ascending order\n",
    "rankedFeatures = [f[0] for f in CorrWithSalePrice]\n",
    "Err = []\n",
    "#iterate from 1 to number of rankedFeatures to choose the number of high correlation features will be used.\n",
    "for N in range(1,len(rankedFeatures)):\n",
    "    # At each iteration we take one more feature into account\n",
    "    # at first we take into account just the top ranked feature \"OverallQual\"\n",
    "    # in the end we take all features into account\n",
    "    LinearRegr = linear_model.LinearRegression( fit_intercept=True,normalize=False)\n",
    "    #feed only N highest features to train\n",
    "    feat = HousingPriceDF[rankedFeatures[:N]].values\n",
    "    #Only get error of testset\n",
    "    error = KFoldTrain(feat,Log_SalePrice,LinearRegr,5)[1]\n",
    "    Err += [np.mean(error)]\n",
    "print(\"Number of features that have lowest RMSE\",Err.index(min(Err)))\n",
    "print(\"Min RMSE\",min(Err))\n",
    "plt.title(\"RMSE VS number of numerical features\")\n",
    "plt.plot(range(1,len(rankedFeatures)),Err)\n",
    "plt.ylabel(\"RMSE\")\n",
    "plt.xlabel(\"Number of numerical features\")\n",
    "plt.grid()\n",
    "plt.show()"
   ]
  },
  {
   "cell_type": "markdown",
   "metadata": {},
   "source": [
    "We can see that RMSE quite the same when we increase the number of numerical features to train from 27 to 33, and the best value we get is training by 28 features.  "
   ]
  },
  {
   "cell_type": "code",
   "execution_count": 95,
   "metadata": {
    "collapsed": false
   },
   "outputs": [
    {
     "data": {
      "text/plain": [
       "['LotFrontage',\n",
       " 'LotArea',\n",
       " 'OverallQual',\n",
       " 'OverallCond',\n",
       " 'YearBuilt',\n",
       " 'YearRemodAdd',\n",
       " 'MasVnrArea',\n",
       " 'BsmtFinSF1',\n",
       " 'BsmtFinSF2',\n",
       " 'BsmtUnfSF',\n",
       " 'TotalBsmtSF',\n",
       " '1stFlrSF',\n",
       " '2ndFlrSF',\n",
       " 'LowQualFinSF',\n",
       " 'GrLivArea',\n",
       " 'BsmtFullBath',\n",
       " 'BsmtHalfBath',\n",
       " 'FullBath',\n",
       " 'HalfBath',\n",
       " 'BedroomAbvGr',\n",
       " 'KitchenAbvGr',\n",
       " 'TotRmsAbvGrd',\n",
       " 'Fireplaces',\n",
       " 'GarageYrBlt',\n",
       " 'GarageCars',\n",
       " 'GarageArea',\n",
       " 'WoodDeckSF',\n",
       " 'OpenPorchSF',\n",
       " 'EnclosedPorch']"
      ]
     },
     "execution_count": 95,
     "metadata": {},
     "output_type": "execute_result"
    }
   ],
   "source": [
    "ChosenNumericalFeatures = NumericalFeatures[:29]\n",
    "ChosenNumericalFeatures"
   ]
  },
  {
   "cell_type": "markdown",
   "metadata": {},
   "source": [
    "Now, we try to remove the redundant features and verify that we still have the same performance or not"
   ]
  },
  {
   "cell_type": "code",
   "execution_count": 96,
   "metadata": {
    "collapsed": false
   },
   "outputs": [
    {
     "name": "stdout",
     "output_type": "stream",
     "text": [
      "Mean of RMSE of test set: 0.141783955272\n"
     ]
    }
   ],
   "source": [
    "#Init regresion model. fit_intercept=True because our dataset is not centre.\n",
    "LinearRegr = linear_model.LinearRegression( fit_intercept=True)\n",
    "#Extract features matrix from features dataframe, remove redundante features\n",
    "trainFeatures = HousingPriceDF[ChosenNumericalFeatures].drop(redundantFeatures,axis=1).values\n",
    "RMSE = KFoldTrain(trainFeatures,Log_SalePrice,LinearRegr,5)\n",
    "print(\"Mean of RMSE of test set:\",np.mean(RMSE[1]))"
   ]
  },
  {
   "cell_type": "markdown",
   "metadata": {},
   "source": [
    "Removing redundante features has negative affect to our performance. So we will not ignore redundant numerical features."
   ]
  },
  {
   "cell_type": "markdown",
   "metadata": {},
   "source": [
    "### 2.Training only with One Hot Encoding Features:  \n",
    "\n",
    "The same approach in numerical feature part, we will apply linear regression for all the One Hot Encoding features. Then we will use PCA to reduce the dimension."
   ]
  },
  {
   "cell_type": "code",
   "execution_count": 97,
   "metadata": {
    "collapsed": false
   },
   "outputs": [],
   "source": [
    "LinearRegr = linear_model.LinearRegression( fit_intercept=True)\n",
    "trainFeatures = OneHotEncodeTrainDF.drop('SalePrice',axis=1).values\n",
    "RMSE = KFoldTrain(trainFeatures,Log_SalePrice,LinearRegr,5)"
   ]
  },
  {
   "cell_type": "code",
   "execution_count": 98,
   "metadata": {
    "collapsed": false
   },
   "outputs": [
    {
     "data": {
      "image/png": "[encoded data removed]",
      "text/plain": [
       "<matplotlib.figure.Figure at 0x116211160>"
      ]
     },
     "metadata": {},
     "output_type": "display_data"
    }
   ],
   "source": [
    "plt.figure(figsize=(20,5))\n",
    "plt.subplot(121)\n",
    "plt.plot(RMSE[1])\n",
    "plt.title(\"RMSE of test set\")\n",
    "plt.ylabel(\"RMSE\")\n",
    "plt.subplot(122)\n",
    "plt.plot(RMSE[0])\n",
    "plt.title(\"RMSE of train set\")\n",
    "plt.ylabel(\"RMSE\")\n",
    "plt.show()"
   ]
  },
  {
   "cell_type": "markdown",
   "metadata": {},
   "source": [
    "We can see that RMSE of train set is low, but RMSE of test set is extremely high. It is a big overfiting problem. This is because we are using a lot of simple features (binary value). We can overcome this problem by reducing the number of dimension."
   ]
  },
  {
   "cell_type": "code",
   "execution_count": 99,
   "metadata": {
    "collapsed": false
   },
   "outputs": [
    {
     "data": {
      "image/png": "[encoded data removed]",
      "text/plain": [
       "<matplotlib.figure.Figure at 0x11a1849e8>"
      ]
     },
     "metadata": {},
     "output_type": "display_data"
    }
   ],
   "source": [
    "Err = []\n",
    "#iterate from 1 to number of rankedFeatures to choose the number of high correlation features will be used.\n",
    "for nb in range(1,trainFeatures.shape[1],10):\n",
    "    #Applying PCA with the corresponding number of components\n",
    "    pca = PCA(n_components=nb)\n",
    "    pca.fit(trainFeatures)\n",
    "    #transform the features matrix to reduce the dimension\n",
    "    trainFeaturesPCA = pca.transform(trainFeatures)\n",
    "    LinearRegr = linear_model.LinearRegression( fit_intercept=True)\n",
    "    #get the RMSE of test set only\n",
    "    RMSE = KFoldTrain(trainFeaturesPCA,Log_SalePrice,LinearRegr,5)[1]\n",
    "    Err += [np.mean(RMSE)]\n",
    "plt.plot(range(1,trainFeatures.shape[1],10),Err)\n",
    "plt.xlabel(\"Number of dimensions\")\n",
    "plt.ylabel(\"RMSE\")\n",
    "plt.title(\"RMSE vs Number of dimensions\")\n",
    "plt.grid()\n",
    "plt.show()"
   ]
  },
  {
   "cell_type": "markdown",
   "metadata": {},
   "source": [
    "RMSE increases a lot when the number of dimensions is higher than 200."
   ]
  },
  {
   "cell_type": "code",
   "execution_count": 100,
   "metadata": {
    "collapsed": false,
    "scrolled": true
   },
   "outputs": [
    {
     "data": {
      "image/png": "[encoded data removed]",
      "text/plain": [
       "<matplotlib.figure.Figure at 0x12028fb00>"
      ]
     },
     "metadata": {},
     "output_type": "display_data"
    }
   ],
   "source": [
    "Err = []\n",
    "for nb in range(1,210,10):\n",
    "    #Applying PCA with the corresponding number of components\n",
    "    pca = PCA(n_components=nb)\n",
    "    pca.fit(trainFeatures)\n",
    "    trainFeaturesPCA = pca.transform(trainFeatures)\n",
    "    LinearRegr = linear_model.LinearRegression( fit_intercept=True,normalize=False)\n",
    "    error = KFoldTrain(trainFeaturesPCA,Log_SalePrice,LinearRegr,5)[1]\n",
    "    Err += [np.mean(error)]\n",
    "plt.plot(range(1,210,10),Err)\n",
    "plt.xlabel(\"Number of dimensions\")\n",
    "plt.ylabel(\"RMSE\")\n",
    "plt.title(\"RMSE vs Number of dimensions\")\n",
    "plt.grid()\n",
    "plt.show()"
   ]
  },
  {
   "cell_type": "code",
   "execution_count": 101,
   "metadata": {
    "collapsed": false
   },
   "outputs": [
    {
     "name": "stdout",
     "output_type": "stream",
     "text": [
      "Number of dimension that gives minum RMSE 170\n",
      "minum RMSE 0.181968085069\n"
     ]
    }
   ],
   "source": [
    "print(\"Number of dimension that gives minum RMSE\",Err.index(min(Err))*10)\n",
    "print(\"minum RMSE\",min(Err))"
   ]
  },
  {
   "cell_type": "markdown",
   "metadata": {},
   "source": [
    "The performance of our model when only use One Hot Encoding features is not good at using only numerical features. We hope that the performance  will be better when we use both numerical features an one hot encoding features."
   ]
  },
  {
   "cell_type": "markdown",
   "metadata": {},
   "source": [
    "### 3. Training with merge features:\n",
    "\n",
    "Again, we will use simple linear regression model with numerical features and One Hot Encoding after PCA from the previous part. We will verify the new RMSE of this model. Then we will merge numerical features and One Hot Encoding before PCA, and then apply PCA on whole merge features."
   ]
  },
  {
   "cell_type": "code",
   "execution_count": 102,
   "metadata": {
    "collapsed": true
   },
   "outputs": [],
   "source": [
    "#Numerical features with chosen numerical features from previous part.\n",
    "NumericalFeature = HousingPriceDF[ChosenNumericalFeatures].values\n",
    "#Apply PCA with 160 component for train features\n",
    "pca = PCA(n_components=170)\n",
    "OHEFeature = OneHotEncodeTrainDF.drop('SalePrice',axis=1).values\n",
    "pca.fit(OHEFeature)\n",
    "trainFeaturesPCA = pca.transform(OHEFeature)\n",
    "#concatenate the numerical features and one hot encoding features.\n",
    "MergeFinalFeatures = np.concatenate((NumericalFeature, trainFeaturesPCA), axis=1)"
   ]
  },
  {
   "cell_type": "code",
   "execution_count": 103,
   "metadata": {
    "collapsed": false
   },
   "outputs": [
    {
     "data": {
      "text/plain": [
       "0.13840323828646847"
      ]
     },
     "execution_count": 103,
     "metadata": {},
     "output_type": "execute_result"
    }
   ],
   "source": [
    "LinearRegr = linear_model.LinearRegression(fit_intercept=True)\n",
    "RMSE = KFoldTrain(MergeFinalFeatures,Log_SalePrice,LinearRegr,5)\n",
    "np.mean(RMSE[1])"
   ]
  },
  {
   "cell_type": "markdown",
   "metadata": {},
   "source": [
    "A little bit improvement but not two much. We come to second approach, merge the features first, then apply PCA later"
   ]
  },
  {
   "cell_type": "code",
   "execution_count": 104,
   "metadata": {
    "collapsed": true
   },
   "outputs": [],
   "source": [
    "#merging the feature before PCA\n",
    "OHEtrainFeatures = OneHotEncodeTrainDF.drop('SalePrice',axis=1).values\n",
    "NUMtrainFeatures = HousingPriceDF[ChosenNumericalFeatures].values\n",
    "mergeTrainFeatures = np.concatenate((NUMtrainFeatures, OHEtrainFeatures), axis=1)"
   ]
  },
  {
   "cell_type": "code",
   "execution_count": 105,
   "metadata": {
    "collapsed": false
   },
   "outputs": [
    {
     "data": {
      "image/png": "[encoded data removed]",
      "text/plain": [
       "<matplotlib.figure.Figure at 0x122108080>"
      ]
     },
     "metadata": {},
     "output_type": "display_data"
    }
   ],
   "source": [
    "Err = []\n",
    "for nb in range(1,mergeTrainFeatures.shape[1],10):\n",
    "    pca = PCA(n_components=nb)\n",
    "    pca.fit(mergeTrainFeatures)\n",
    "    trainFeaturesPCA = pca.transform(mergeTrainFeatures)\n",
    "\n",
    "    regr = linear_model.LinearRegression( fit_intercept=True)\n",
    "    error = KFoldTrain(trainFeaturesPCA,Log_SalePrice,regr,5)[1]\n",
    "    Err += [np.mean(error)]\n",
    "    \n",
    "plt.plot(range(1,mergeTrainFeatures.shape[1],10),Err)\n",
    "plt.title(\"RMSE vs Number of dimension\")\n",
    "plt.xlabel(\"Number of dimension\")\n",
    "plt.ylabel(\"RMSE\")\n",
    "plt.grid()\n",
    "plt.show()"
   ]
  },
  {
   "cell_type": "markdown",
   "metadata": {},
   "source": [
    "Again, we are facing overfiting problem when number of dimension is higher than 220"
   ]
  },
  {
   "cell_type": "code",
   "execution_count": 106,
   "metadata": {
    "collapsed": false
   },
   "outputs": [
    {
     "data": {
      "image/png": "[encoded data removed]",
      "text/plain": [
       "<matplotlib.figure.Figure at 0x122108668>"
      ]
     },
     "metadata": {},
     "output_type": "display_data"
    },
    {
     "name": "stdout",
     "output_type": "stream",
     "text": [
      "Number of dimension that gives minum RMSE 80\n",
      "minimum RMSE 0.130468647776\n"
     ]
    }
   ],
   "source": [
    "#Run iteration again from 1 to 220 with step is 10\n",
    "Err = []\n",
    "ErrorList = []\n",
    "for nb in range(1,220,10):\n",
    "    pca = PCA(n_components=nb)\n",
    "    pca.fit(mergeTrainFeatures)\n",
    "    trainFeaturesPCA = pca.transform(mergeTrainFeatures)\n",
    "\n",
    "    regr = linear_model.LinearRegression( fit_intercept=True)\n",
    "    error = KFoldTrain(trainFeaturesPCA,Log_SalePrice,regr,5)\n",
    "    ErrorList.append(error)\n",
    "    #calculate only error for testset\n",
    "    Err += [np.mean(error[1])]\n",
    "\n",
    "    \n",
    "plt.plot(range(1,220,10),Err)\n",
    "plt.title(\"RMSE vs Number of dimension\")\n",
    "plt.xlabel(\"Number of dimension\")\n",
    "plt.ylabel(\"RMSE\")\n",
    "plt.grid()\n",
    "plt.show()\n",
    "print(\"Number of dimension that gives minum RMSE\",Err.index(min(Err))*10)\n",
    "print(\"minimum RMSE\",min(Err))"
   ]
  },
  {
   "cell_type": "markdown",
   "metadata": {},
   "source": [
    "The RMSE is lower than using only numerical feature now. So the final approaching is merging numerical features and one hot encoding features, and then apply PCA with number of component is 80.  "
   ]
  },
  {
   "cell_type": "code",
   "execution_count": 109,
   "metadata": {
    "collapsed": false
   },
   "outputs": [
    {
     "name": "stdout",
     "output_type": "stream",
     "text": [
      "RMSE of test 0.130357726341\n"
     ]
    }
   ],
   "source": [
    "pca = PCA(n_components=80)\n",
    "pca.fit(mergeTrainFeatures)\n",
    "MergeFeaturesPCA = pca.transform(mergeTrainFeatures)\n",
    "\n",
    "LinearRegr = linear_model.LinearRegression( fit_intercept=True)\n",
    "error = KFoldTrain(MergeFeaturesPCA,Log_SalePrice,LinearRegr,5)\n",
    "print(\"RMSE of test\",np.mean(error[1]))"
   ]
  },
  {
   "cell_type": "markdown",
   "metadata": {},
   "source": [
    "Now we look deeper on the RMSE curve of Train Set and Test Set:"
   ]
  },
  {
   "cell_type": "code",
   "execution_count": 110,
   "metadata": {
    "collapsed": false
   },
   "outputs": [
    {
     "data": {
      "image/png": "[encoded data removed]",
      "text/plain": [
       "<matplotlib.figure.Figure at 0x116208748>"
      ]
     },
     "metadata": {},
     "output_type": "display_data"
    }
   ],
   "source": [
    "plt.title(\"RMSE of train set and test set\")\n",
    "plt.plot(Err,'r',label=\"Test Set\")\n",
    "plt.plot([np.mean(e[0]) for e in ErrorList],'b',label=\"Train Set\")\n",
    "plt.ylabel(\"RMSE\")\n",
    "plt.xlabel(\"Number of dimension\")\n",
    "plt.grid()\n",
    "plt.legend()\n",
    "plt.show()"
   ]
  },
  {
   "cell_type": "markdown",
   "metadata": {},
   "source": [
    "We can see that RMSE of Train set is lower that Test Set, there is still overfiting in our model. We will try to use other model to overcome the overfitting and improve our model."
   ]
  },
  {
   "cell_type": "markdown",
   "metadata": {},
   "source": [
    "### 4. Complex model:\n",
    "\n",
    "To overcome overfiting model, we should use some model support regularization. We will use Ridge Regression model and Lasso model from scikit-learn."
   ]
  },
  {
   "cell_type": "markdown",
   "metadata": {},
   "source": [
    "***4.1 Ridge Regression:***"
   ]
  },
  {
   "cell_type": "code",
   "execution_count": 111,
   "metadata": {
    "collapsed": false,
    "scrolled": true
   },
   "outputs": [
    {
     "data": {
      "image/png": "[encoded data removed]",
      "text/plain": [
       "<matplotlib.figure.Figure at 0x105fd7160>"
      ]
     },
     "metadata": {},
     "output_type": "display_data"
    }
   ],
   "source": [
    "alpharange = [0.01,0.1,1,10,100,1000]\n",
    "RMSEList = []\n",
    "for a in alpharange:\n",
    "    RigdeReg = linear_model.Ridge(alpha = a)\n",
    "    RMSE = KFoldTrain(MergeFeaturesPCA,Log_SalePrice,RigdeReg,5)[1]\n",
    "    RMSEList.append(np.mean(RMSE))\n",
    "plt.title(\"RMSE vs alpha\")\n",
    "plt.plot(alpharange,RMSEList)\n",
    "plt.xlabel(\"alpha\")\n",
    "plt.ylabel(\"RMSE\")\n",
    "\n",
    "plt.show()  "
   ]
  },
  {
   "cell_type": "code",
   "execution_count": 112,
   "metadata": {
    "collapsed": false,
    "scrolled": true
   },
   "outputs": [
    {
     "name": "stdout",
     "output_type": "stream",
     "text": [
      "Minimum RMSE of model: 0.129819874174\n",
      "Best alpha for this model: 1\n"
     ]
    }
   ],
   "source": [
    "print(\"Minimum RMSE of model:\",min(RMSEList))\n",
    "print(\"Best alpha for this model:\",alpharange[RMSEList.index(min(RMSEList))])"
   ]
  },
  {
   "cell_type": "markdown",
   "metadata": {},
   "source": [
    "It is not much different comparing with linear regression. Because this model support regularization to overcome the overfitting, we might do not need to apply PCA before training.  \n",
    "***Training with dataset before PCA***"
   ]
  },
  {
   "cell_type": "code",
   "execution_count": 115,
   "metadata": {
    "collapsed": false
   },
   "outputs": [
    {
     "data": {
      "image/png": "[encoded data removed]",
      "text/plain": [
       "<matplotlib.figure.Figure at 0x119abce80>"
      ]
     },
     "metadata": {},
     "output_type": "display_data"
    }
   ],
   "source": [
    "alpharange = [0.01,0.1,1,10,100,1000]\n",
    "RMSEList = []\n",
    "for a in alpharange:\n",
    "    RigdeReg = linear_model.Ridge(alpha = a)\n",
    "    RMSE = KFoldTrain(mergeTrainFeatures,Log_SalePrice,RigdeReg,5)[1]\n",
    "    RMSEList.append(np.mean(RMSE))\n",
    "plt.title(\"RMSE vs alpha\")\n",
    "plt.plot(alpharange,RMSEList)\n",
    "plt.xlabel(\"alpha\")\n",
    "plt.ylabel(\"RMSE\")\n",
    "\n",
    "plt.show() "
   ]
  },
  {
   "cell_type": "code",
   "execution_count": 116,
   "metadata": {
    "collapsed": false
   },
   "outputs": [
    {
     "name": "stdout",
     "output_type": "stream",
     "text": [
      "Minimum RMSE of model: 0.126452044094\n",
      "Best alpha for this model: 10\n"
     ]
    }
   ],
   "source": [
    "print(\"Minimum RMSE of model:\",min(RMSEList))\n",
    "print(\"Best alpha for this model:\",alpharange[RMSEList.index(min(RMSEList))])"
   ]
  },
  {
   "cell_type": "markdown",
   "metadata": {},
   "source": [
    "The performance of our model is better when we put the dataset before apply PCA."
   ]
  },
  {
   "cell_type": "markdown",
   "metadata": {},
   "source": [
    "***4.2 Lasso Regression:***  \n",
    "\n",
    "The same with approach applied in Ridge regression, we will train our model with dataset after apply PCA and dataset before apply PCA"
   ]
  },
  {
   "cell_type": "markdown",
   "metadata": {},
   "source": [
    "**4.2.1: Lasso with dataset after PCA**"
   ]
  },
  {
   "cell_type": "code",
   "execution_count": 117,
   "metadata": {
    "collapsed": false
   },
   "outputs": [
    {
     "data": {
      "image/png": "[encoded data removed]",
      "text/plain": [
       "<matplotlib.figure.Figure at 0x11d80e3c8>"
      ]
     },
     "metadata": {},
     "output_type": "display_data"
    }
   ],
   "source": [
    "alpharange = [0.00001,0.0001,0.001,0.01,0.1,1,10]\n",
    "RMSEList = []\n",
    "for a in alpharange:\n",
    "    LassoReg = linear_model.Lasso(alpha = a)\n",
    "    RMSE = KFoldTrain(MergeFeaturesPCA,Log_SalePrice,LassoReg,5)[1]\n",
    "    RMSEList.append(np.mean(RMSE))\n",
    "plt.title(\"RMSE vs alpha\")\n",
    "plt.plot(np.log10(alpharange),RMSEList)\n",
    "plt.xlabel(\"alpha\")\n",
    "plt.ylabel(\"RMSE\")\n",
    "\n",
    "plt.show()  "
   ]
  },
  {
   "cell_type": "code",
   "execution_count": 118,
   "metadata": {
    "collapsed": false
   },
   "outputs": [
    {
     "name": "stdout",
     "output_type": "stream",
     "text": [
      "Minimum RMSE of model: 0.131274596204\n",
      "Best alpha for this model: 0.001\n"
     ]
    }
   ],
   "source": [
    "print(\"Minimum RMSE of model:\",min(RMSEList))\n",
    "print(\"Best alpha for this model:\",alpharange[RMSEList.index(min(RMSEList))])"
   ]
  },
  {
   "cell_type": "markdown",
   "metadata": {},
   "source": [
    "**4.2.2: Lasso with dataset before PCA**"
   ]
  },
  {
   "cell_type": "code",
   "execution_count": 119,
   "metadata": {
    "collapsed": false
   },
   "outputs": [
    {
     "name": "stderr",
     "output_type": "stream",
     "text": [
      "/Users/vunguyen/anaconda/lib/python3.5/site-packages/sklearn/linear_model/coordinate_descent.py:484: ConvergenceWarning: Objective did not converge. You might want to increase the number of iterations. Fitting data with very small alpha may cause precision problems.\n",
      "  ConvergenceWarning)\n"
     ]
    },
    {
     "data": {
      "image/png": "[encoded data removed]",
      "text/plain": [
       "<matplotlib.figure.Figure at 0x11d822dd8>"
      ]
     },
     "metadata": {},
     "output_type": "display_data"
    }
   ],
   "source": [
    "alpharange = [0.00001,0.0001,0.001,0.01,0.1,1,10]\n",
    "RMSEList = []\n",
    "for a in alpharange:\n",
    "    LassoReg = linear_model.Lasso(alpha = a)\n",
    "    RMSE = KFoldTrain(mergeTrainFeatures,Log_SalePrice,LassoReg,5)[1]\n",
    "    RMSEList.append(np.mean(RMSE))\n",
    "plt.title(\"RMSE vs alpha\")\n",
    "plt.plot(np.log10(alpharange),RMSEList)\n",
    "plt.xlabel(\"alpha\")\n",
    "plt.ylabel(\"RMSE\")\n",
    "\n",
    "plt.show()  "
   ]
  },
  {
   "cell_type": "code",
   "execution_count": 120,
   "metadata": {
    "collapsed": false
   },
   "outputs": [
    {
     "name": "stdout",
     "output_type": "stream",
     "text": [
      "Minimum RMSE of model: 0.125954657736\n",
      "Best alpha for this model: 0.001\n"
     ]
    }
   ],
   "source": [
    "print(\"Minimum RMSE of model:\",min(RMSEList))\n",
    "print(\"Best alpha for this model:\",alpharange[RMSEList.index(min(RMSEList))])"
   ]
  },
  {
   "cell_type": "markdown",
   "metadata": {},
   "source": [
    "The result of Lasso model is quite the same with Ridge regression model, and it is better when we train model with dataset before PCA"
   ]
  },
  {
   "cell_type": "markdown",
   "metadata": {},
   "source": [
    "***4.3 XGBoost:***\n",
    "XGBoost (eXtreme Gradient Boosting) is an advanced implementation of gradient boosting algorithm. Gradient boosting is a machine learning technique for regression and classification problems, which produces a prediction model in the form of an ensemble of weak prediction models, typically decision trees.  \n",
    "\n",
    "In this notebook we will user XGBoost with some initial parameters following by the suggestion from https://www.analyticsvidhya.com/blog/2016/03/complete-guide-parameter-tuning-xgboost-with-codes-python/.\n",
    "After that, we will use GridSearchCV of Scikit-learn on parameter gamma and learning_rate to choose the best model"
   ]
  },
  {
   "cell_type": "code",
   "execution_count": 121,
   "metadata": {
    "collapsed": true
   },
   "outputs": [],
   "source": [
    "import xgboost as xgb\n",
    "from sklearn.model_selection import GridSearchCV"
   ]
  },
  {
   "cell_type": "code",
   "execution_count": 137,
   "metadata": {
    "collapsed": false
   },
   "outputs": [],
   "source": [
    "model_xgb = xgb.XGBRegressor(colsample_bytree=0.5, gamma=0.05, \n",
    "                             learning_rate=0.1, max_depth=3, \n",
    "                             min_child_weight=2, n_estimators=2000,\n",
    "                             reg_alpha=0.5, reg_lambda=0.8,\n",
    "                             subsample=0.5, silent=1,\n",
    "                             random_state =7, nthread = -1)"
   ]
  },
  {
   "cell_type": "code",
   "execution_count": 123,
   "metadata": {
    "collapsed": false
   },
   "outputs": [],
   "source": [
    "#Split training dataset and testing dataset to verify our model\n",
    "TrainMerFeature = mergeTrainFeatures[train.index]\n",
    "TestMerFeature = mergeTrainFeatures[test.index]\n",
    "\n",
    "LogSPTrain = Log_SalePrice[train.index]\n",
    "LogSPTest = Log_SalePrice[test.index]"
   ]
  },
  {
   "cell_type": "code",
   "execution_count": 138,
   "metadata": {
    "collapsed": false
   },
   "outputs": [
    {
     "data": {
      "text/plain": [
       "GridSearchCV(cv=5, error_score='raise',\n",
       "       estimator=XGBRegressor(base_score=0.5, booster='gbtree', colsample_bylevel=1,\n",
       "       colsample_bytree=0.5, gamma=0.05, learning_rate=0.1,\n",
       "       max_delta_step=0, max_depth=3, min_child_weight=2, missing=None,\n",
       "       n_estimators=2000, n_jobs=1, nthread=-1, objective='reg:linear',\n",
       "       random_state=7, reg_alpha=0.5, reg_lambda=0.8, scale_pos_weight=1,\n",
       "       seed=None, silent=1, subsample=0.5),\n",
       "       fit_params={}, iid=True, n_jobs=1,\n",
       "       param_grid=[{'gamma': [0.01, 0.025, 0.05], 'learning_rate': [0.01, 0.05, 0.1]}],\n",
       "       pre_dispatch='2*n_jobs', refit=True, return_train_score=True,\n",
       "       scoring='neg_mean_squared_error', verbose=0)"
      ]
     },
     "execution_count": 138,
     "metadata": {},
     "output_type": "execute_result"
    }
   ],
   "source": [
    "# Set the parameters by cross-validation\n",
    "tuned_parameters = [{'gamma': [0.01,0.025,0.05],\n",
    "                     'learning_rate': [0.01, 0.05, 0.1]}]\n",
    "#Runing grid search cross validation with CV=5, scoring is neg_mean_squared_error since gridsearch will maximize score\n",
    "clf = GridSearchCV(model_xgb, tuned_parameters, cv=5, scoring=\"neg_mean_squared_error\")\n",
    "clf.fit(TrainMerFeature, LogSPTrain)"
   ]
  },
  {
   "cell_type": "code",
   "execution_count": 143,
   "metadata": {
    "collapsed": false
   },
   "outputs": [
    {
     "name": "stdout",
     "output_type": "stream",
     "text": [
      "The gamma and learning rate: {'gamma': 0.01, 'learning_rate': 0.01}\n"
     ]
    }
   ],
   "source": [
    "print(\"The gamma and learning rate:\",clf.best_params_)"
   ]
  },
  {
   "cell_type": "code",
   "execution_count": 144,
   "metadata": {
    "collapsed": false
   },
   "outputs": [
    {
     "name": "stdout",
     "output_type": "stream",
     "text": [
      "RMSE of model: 0.113382490465\n"
     ]
    }
   ],
   "source": [
    "#Verify with testset\n",
    "predictvalue = clf.predict(TestMerFeature)\n",
    "print(\"RMSE of model:\",CalRMSE(predictvalue,LogSPTest))"
   ]
  },
  {
   "cell_type": "markdown",
   "metadata": {},
   "source": [
    "Our model train with XGBoost gives us the best model with lowest RMSE in all the model we tried"
   ]
  },
  {
   "cell_type": "markdown",
   "metadata": {},
   "source": [
    "# C. Conclusion:  \n",
    "\n",
    "For the experiment in this notebook, we are going to finalize a good model with RMSE of logarithm value is around 0.127. The model comes throught some steps:\n",
    "- Filling missing values\n",
    "- Removing **PoolQC**, **YrSold** features.\n",
    "- Change **MSSubClass** and **MoSold** to Category type.\n",
    "- For numerical features, keeps 28 features that have highest correlation with SalePrice to train model.\n",
    "- For Categoric features, transforming by One Hot Encoding.\n",
    "- Merging Numerical features with categoric features.\n",
    "- Train model with XGBoost  model with Alpha is gamma = 0.01 and learning_rate = 0.01"
   ]
  },
  {
   "cell_type": "markdown",
   "metadata": {},
   "source": [
    "# D. Predict for test set"
   ]
  },
  {
   "cell_type": "code",
   "execution_count": 156,
   "metadata": {
    "collapsed": false
   },
   "outputs": [],
   "source": [
    "#Keep only necessary numerical Features.\n",
    "NumericalFeaturesTest = TestDF[ChosenNumericalFeatures].values\n",
    "#Get one hot encoder value\n",
    "OHEFeatureTest = OneHotEncodeTestDF.values\n",
    "#Merge numerical features with one hot encoder features.\n",
    "MergeFinalFeaturesTest = np.concatenate((NumericalFeaturesTest, OHEFeatureTest), axis=1)\n",
    "#Apply PCA for merger features."
   ]
  },
  {
   "cell_type": "code",
   "execution_count": 157,
   "metadata": {
    "collapsed": false
   },
   "outputs": [],
   "source": [
    "#Predict logarithm of Sale Price in test dataset\n",
    "Testprice=clf.predict(MergeFinalFeaturesTest)\n",
    "#Change from logarithm value to real value\n",
    "TestDF['SalePrice'] = np.exp(Testprice)"
   ]
  },
  {
   "cell_type": "code",
   "execution_count": 158,
   "metadata": {
    "collapsed": false
   },
   "outputs": [],
   "source": [
    "#Export to csv file\n",
    "FinalResult = TestDF[['Id','SalePrice']]\n",
    "FinalResult.to_csv(\"Submission.cvs\",index=False)"
   ]
  }
 ],
 "metadata": {
  "anaconda-cloud": {},
  "kernelspec": {
   "display_name": "Python [default]",
   "language": "python",
   "name": "python3"
  },
  "language_info": {
   "codemirror_mode": {
    "name": "ipython",
    "version": 3
   },
   "file_extension": ".py",
   "mimetype": "text/x-python",
   "name": "python",
   "nbconvert_exporter": "python",
   "pygments_lexer": "ipython3",
   "version": "3.5.2"
  }
 },
 "nbformat": 4,
 "nbformat_minor": 1
}
